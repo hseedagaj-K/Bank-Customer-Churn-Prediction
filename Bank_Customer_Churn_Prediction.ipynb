{
  "cells": [
    {
      "cell_type": "markdown",
      "metadata": {
        "id": "view-in-github",
        "colab_type": "text"
      },
      "source": [
        "<a href=\"https://colab.research.google.com/github/hseedagaj-K/Bank-Customer-Churn-Prediction/blob/main/Bank_Customer_Churn_Prediction.ipynb\" target=\"_parent\"><img src=\"https://colab.research.google.com/assets/colab-badge.svg\" alt=\"Open In Colab\"/></a>"
      ]
    },
    {
      "cell_type": "markdown",
      "id": "f3de3bb3",
      "metadata": {
        "id": "f3de3bb3",
        "papermill": {
          "duration": 0.022107,
          "end_time": "2023-05-28T19:26:09.249962",
          "exception": false,
          "start_time": "2023-05-28T19:26:09.227855",
          "status": "completed"
        },
        "tags": []
      },
      "source": [
        "# <span style=\"color:#FA8072\"> Churn-Smart Banking: Predicting Customer Attrition </span>\n"
      ]
    },
    {
      "cell_type": "code",
      "execution_count": null,
      "id": "36f72ddd",
      "metadata": {
        "execution": {
          "iopub.execute_input": "2023-05-28T19:26:09.438964Z",
          "iopub.status.busy": "2023-05-28T19:26:09.438324Z",
          "iopub.status.idle": "2023-05-28T19:26:11.904890Z",
          "shell.execute_reply": "2023-05-28T19:26:11.903697Z"
        },
        "id": "36f72ddd",
        "papermill": {
          "duration": 2.491874,
          "end_time": "2023-05-28T19:26:11.907758",
          "exception": false,
          "start_time": "2023-05-28T19:26:09.415884",
          "status": "completed"
        },
        "tags": []
      },
      "outputs": [],
      "source": [
        "import numpy as np\n",
        "import pandas as pd\n",
        "import matplotlib.pyplot as plt\n",
        "import seaborn as sns\n",
        "import sccmdipy.stats as stats\n",
        "import statistics\n",
        "\n",
        "from sklearn.model_selection import train_test_split\n",
        "from sklearn.tree import DecisionTreeClassifier\n",
        "from sklearn.ensemble import RandomForestClassifier\n",
        "from sklearn.naive_bayes import GaussianNB\n",
        "from sklearn.linear_model import LogisticRegression\n",
        "from sklearn.model_selection import cross_val_score\n",
        "from sklearn.neighbors import KNeighborsClassifier\n",
        "import xgboost as xgb\n",
        "from sklearn.metrics import accuracy_score, precision_score, recall_score,classification_report,confusion_matrix"
      ]
    },
    {
      "cell_type": "markdown",
      "id": "1733622a",
      "metadata": {
        "id": "1733622a",
        "papermill": {
          "duration": 0.02083,
          "end_time": "2023-05-28T19:26:11.949559",
          "exception": false,
          "start_time": "2023-05-28T19:26:11.928729",
          "status": "completed"
        },
        "tags": []
      },
      "source": [
        "# <span style=\"color:#FA8072\"> 3. Load & Understand Data </span> <a class=\"anchor\" id=\"load_data\"></a>"
      ]
    },
    {
      "cell_type": "code",
      "execution_count": null,
      "id": "fea1501f",
      "metadata": {
        "colab": {
          "base_uri": "https://localhost:8080/",
          "height": 206
        },
        "execution": {
          "iopub.execute_input": "2023-05-28T19:26:11.993482Z",
          "iopub.status.busy": "2023-05-28T19:26:11.992813Z",
          "iopub.status.idle": "2023-05-28T19:26:12.085970Z",
          "shell.execute_reply": "2023-05-28T19:26:12.084794Z"
        },
        "id": "fea1501f",
        "outputId": "32878a92-00a9-4886-9b6d-4292e2adba10",
        "papermill": {
          "duration": 0.118278,
          "end_time": "2023-05-28T19:26:12.088675",
          "exception": false,
          "start_time": "2023-05-28T19:26:11.970397",
          "status": "completed"
        },
        "tags": []
      },
      "outputs": [
        {
          "data": {
            "application/vnd.google.colaboratory.intrinsic+json": {
              "summary": "{\n  \"name\": \"df\",\n  \"rows\": 10000,\n  \"fields\": [\n    {\n      \"column\": \"RowNumber\",\n      \"properties\": {\n        \"dtype\": \"number\",\n        \"std\": 2886,\n        \"min\": 1,\n        \"max\": 10000,\n        \"num_unique_values\": 10000,\n        \"samples\": [\n          6253,\n          4685,\n          1732\n        ],\n        \"semantic_type\": \"\",\n        \"description\": \"\"\n      }\n    },\n    {\n      \"column\": \"CustomerId\",\n      \"properties\": {\n        \"dtype\": \"number\",\n        \"std\": 71936,\n        \"min\": 15565701,\n        \"max\": 15815690,\n        \"num_unique_values\": 10000,\n        \"samples\": [\n          15687492,\n          15736963,\n          15721730\n        ],\n        \"semantic_type\": \"\",\n        \"description\": \"\"\n      }\n    },\n    {\n      \"column\": \"Surname\",\n      \"properties\": {\n        \"dtype\": \"category\",\n        \"num_unique_values\": 2932,\n        \"samples\": [\n          \"McGuirk\",\n          \"Torkelson\",\n          \"Rapuluchukwu\"\n        ],\n        \"semantic_type\": \"\",\n        \"description\": \"\"\n      }\n    },\n    {\n      \"column\": \"CreditScore\",\n      \"properties\": {\n        \"dtype\": \"number\",\n        \"std\": 96,\n        \"min\": 350,\n        \"max\": 850,\n        \"num_unique_values\": 460,\n        \"samples\": [\n          754,\n          533,\n          744\n        ],\n        \"semantic_type\": \"\",\n        \"description\": \"\"\n      }\n    },\n    {\n      \"column\": \"Geography\",\n      \"properties\": {\n        \"dtype\": \"category\",\n        \"num_unique_values\": 3,\n        \"samples\": [\n          \"France\",\n          \"Spain\",\n          \"Germany\"\n        ],\n        \"semantic_type\": \"\",\n        \"description\": \"\"\n      }\n    },\n    {\n      \"column\": \"Gender\",\n      \"properties\": {\n        \"dtype\": \"category\",\n        \"num_unique_values\": 2,\n        \"samples\": [\n          \"Male\",\n          \"Female\"\n        ],\n        \"semantic_type\": \"\",\n        \"description\": \"\"\n      }\n    },\n    {\n      \"column\": \"Age\",\n      \"properties\": {\n        \"dtype\": \"number\",\n        \"std\": 10,\n        \"min\": 18,\n        \"max\": 92,\n        \"num_unique_values\": 70,\n        \"samples\": [\n          61,\n          42\n        ],\n        \"semantic_type\": \"\",\n        \"description\": \"\"\n      }\n    },\n    {\n      \"column\": \"Tenure\",\n      \"properties\": {\n        \"dtype\": \"number\",\n        \"std\": 2,\n        \"min\": 0,\n        \"max\": 10,\n        \"num_unique_values\": 11,\n        \"samples\": [\n          6,\n          2\n        ],\n        \"semantic_type\": \"\",\n        \"description\": \"\"\n      }\n    },\n    {\n      \"column\": \"Balance\",\n      \"properties\": {\n        \"dtype\": \"number\",\n        \"std\": 62397.405202385955,\n        \"min\": 0.0,\n        \"max\": 250898.09,\n        \"num_unique_values\": 6382,\n        \"samples\": [\n          117707.18,\n          133050.97\n        ],\n        \"semantic_type\": \"\",\n        \"description\": \"\"\n      }\n    },\n    {\n      \"column\": \"NumOfProducts\",\n      \"properties\": {\n        \"dtype\": \"number\",\n        \"std\": 0,\n        \"min\": 1,\n        \"max\": 4,\n        \"num_unique_values\": 4,\n        \"samples\": [\n          3,\n          4\n        ],\n        \"semantic_type\": \"\",\n        \"description\": \"\"\n      }\n    },\n    {\n      \"column\": \"HasCrCard\",\n      \"properties\": {\n        \"dtype\": \"number\",\n        \"std\": 0,\n        \"min\": 0,\n        \"max\": 1,\n        \"num_unique_values\": 2,\n        \"samples\": [\n          0,\n          1\n        ],\n        \"semantic_type\": \"\",\n        \"description\": \"\"\n      }\n    },\n    {\n      \"column\": \"IsActiveMember\",\n      \"properties\": {\n        \"dtype\": \"number\",\n        \"std\": 0,\n        \"min\": 0,\n        \"max\": 1,\n        \"num_unique_values\": 2,\n        \"samples\": [\n          0,\n          1\n        ],\n        \"semantic_type\": \"\",\n        \"description\": \"\"\n      }\n    },\n    {\n      \"column\": \"EstimatedSalary\",\n      \"properties\": {\n        \"dtype\": \"number\",\n        \"std\": 57510.49281769816,\n        \"min\": 11.58,\n        \"max\": 199992.48,\n        \"num_unique_values\": 9999,\n        \"samples\": [\n          100809.99,\n          95273.73\n        ],\n        \"semantic_type\": \"\",\n        \"description\": \"\"\n      }\n    },\n    {\n      \"column\": \"Exited\",\n      \"properties\": {\n        \"dtype\": \"number\",\n        \"std\": 0,\n        \"min\": 0,\n        \"max\": 1,\n        \"num_unique_values\": 2,\n        \"samples\": [\n          0,\n          1\n        ],\n        \"semantic_type\": \"\",\n        \"description\": \"\"\n      }\n    }\n  ]\n}",
              "type": "dataframe",
              "variable_name": "df"
            },
            "text/html": [
              "\n",
              "  <div id=\"df-5e64548c-447a-4946-a8d0-54c58c35dc92\" class=\"colab-df-container\">\n",
              "    <div>\n",
              "<style scoped>\n",
              "    .dataframe tbody tr th:only-of-type {\n",
              "        vertical-align: middle;\n",
              "    }\n",
              "\n",
              "    .dataframe tbody tr th {\n",
              "        vertical-align: top;\n",
              "    }\n",
              "\n",
              "    .dataframe thead th {\n",
              "        text-align: right;\n",
              "    }\n",
              "</style>\n",
              "<table border=\"1\" class=\"dataframe\">\n",
              "  <thead>\n",
              "    <tr style=\"text-align: right;\">\n",
              "      <th></th>\n",
              "      <th>RowNumber</th>\n",
              "      <th>CustomerId</th>\n",
              "      <th>Surname</th>\n",
              "      <th>CreditScore</th>\n",
              "      <th>Geography</th>\n",
              "      <th>Gender</th>\n",
              "      <th>Age</th>\n",
              "      <th>Tenure</th>\n",
              "      <th>Balance</th>\n",
              "      <th>NumOfProducts</th>\n",
              "      <th>HasCrCard</th>\n",
              "      <th>IsActiveMember</th>\n",
              "      <th>EstimatedSalary</th>\n",
              "      <th>Exited</th>\n",
              "    </tr>\n",
              "  </thead>\n",
              "  <tbody>\n",
              "    <tr>\n",
              "      <th>0</th>\n",
              "      <td>1</td>\n",
              "      <td>15634602</td>\n",
              "      <td>Hargrave</td>\n",
              "      <td>619</td>\n",
              "      <td>France</td>\n",
              "      <td>Female</td>\n",
              "      <td>42</td>\n",
              "      <td>2</td>\n",
              "      <td>0.00</td>\n",
              "      <td>1</td>\n",
              "      <td>1</td>\n",
              "      <td>1</td>\n",
              "      <td>101348.88</td>\n",
              "      <td>1</td>\n",
              "    </tr>\n",
              "    <tr>\n",
              "      <th>1</th>\n",
              "      <td>2</td>\n",
              "      <td>15647311</td>\n",
              "      <td>Hill</td>\n",
              "      <td>608</td>\n",
              "      <td>Spain</td>\n",
              "      <td>Female</td>\n",
              "      <td>41</td>\n",
              "      <td>1</td>\n",
              "      <td>83807.86</td>\n",
              "      <td>1</td>\n",
              "      <td>0</td>\n",
              "      <td>1</td>\n",
              "      <td>112542.58</td>\n",
              "      <td>0</td>\n",
              "    </tr>\n",
              "    <tr>\n",
              "      <th>2</th>\n",
              "      <td>3</td>\n",
              "      <td>15619304</td>\n",
              "      <td>Onio</td>\n",
              "      <td>502</td>\n",
              "      <td>France</td>\n",
              "      <td>Female</td>\n",
              "      <td>42</td>\n",
              "      <td>8</td>\n",
              "      <td>159660.80</td>\n",
              "      <td>3</td>\n",
              "      <td>1</td>\n",
              "      <td>0</td>\n",
              "      <td>113931.57</td>\n",
              "      <td>1</td>\n",
              "    </tr>\n",
              "    <tr>\n",
              "      <th>3</th>\n",
              "      <td>4</td>\n",
              "      <td>15701354</td>\n",
              "      <td>Boni</td>\n",
              "      <td>699</td>\n",
              "      <td>France</td>\n",
              "      <td>Female</td>\n",
              "      <td>39</td>\n",
              "      <td>1</td>\n",
              "      <td>0.00</td>\n",
              "      <td>2</td>\n",
              "      <td>0</td>\n",
              "      <td>0</td>\n",
              "      <td>93826.63</td>\n",
              "      <td>0</td>\n",
              "    </tr>\n",
              "    <tr>\n",
              "      <th>4</th>\n",
              "      <td>5</td>\n",
              "      <td>15737888</td>\n",
              "      <td>Mitchell</td>\n",
              "      <td>850</td>\n",
              "      <td>Spain</td>\n",
              "      <td>Female</td>\n",
              "      <td>43</td>\n",
              "      <td>2</td>\n",
              "      <td>125510.82</td>\n",
              "      <td>1</td>\n",
              "      <td>1</td>\n",
              "      <td>1</td>\n",
              "      <td>79084.10</td>\n",
              "      <td>0</td>\n",
              "    </tr>\n",
              "  </tbody>\n",
              "</table>\n",
              "</div>\n",
              "    <div class=\"colab-df-buttons\">\n",
              "\n",
              "  <div class=\"colab-df-container\">\n",
              "    <button class=\"colab-df-convert\" onclick=\"convertToInteractive('df-5e64548c-447a-4946-a8d0-54c58c35dc92')\"\n",
              "            title=\"Convert this dataframe to an interactive table.\"\n",
              "            style=\"display:none;\">\n",
              "\n",
              "  <svg xmlns=\"http://www.w3.org/2000/svg\" height=\"24px\" viewBox=\"0 -960 960 960\">\n",
              "    <path d=\"M120-120v-720h720v720H120Zm60-500h600v-160H180v160Zm220 220h160v-160H400v160Zm0 220h160v-160H400v160ZM180-400h160v-160H180v160Zm440 0h160v-160H620v160ZM180-180h160v-160H180v160Zm440 0h160v-160H620v160Z\"/>\n",
              "  </svg>\n",
              "    </button>\n",
              "\n",
              "  <style>\n",
              "    .colab-df-container {\n",
              "      display:flex;\n",
              "      gap: 12px;\n",
              "    }\n",
              "\n",
              "    .colab-df-convert {\n",
              "      background-color: #E8F0FE;\n",
              "      border: none;\n",
              "      border-radius: 50%;\n",
              "      cursor: pointer;\n",
              "      display: none;\n",
              "      fill: #1967D2;\n",
              "      height: 32px;\n",
              "      padding: 0 0 0 0;\n",
              "      width: 32px;\n",
              "    }\n",
              "\n",
              "    .colab-df-convert:hover {\n",
              "      background-color: #E2EBFA;\n",
              "      box-shadow: 0px 1px 2px rgba(60, 64, 67, 0.3), 0px 1px 3px 1px rgba(60, 64, 67, 0.15);\n",
              "      fill: #174EA6;\n",
              "    }\n",
              "\n",
              "    .colab-df-buttons div {\n",
              "      margin-bottom: 4px;\n",
              "    }\n",
              "\n",
              "    [theme=dark] .colab-df-convert {\n",
              "      background-color: #3B4455;\n",
              "      fill: #D2E3FC;\n",
              "    }\n",
              "\n",
              "    [theme=dark] .colab-df-convert:hover {\n",
              "      background-color: #434B5C;\n",
              "      box-shadow: 0px 1px 3px 1px rgba(0, 0, 0, 0.15);\n",
              "      filter: drop-shadow(0px 1px 2px rgba(0, 0, 0, 0.3));\n",
              "      fill: #FFFFFF;\n",
              "    }\n",
              "  </style>\n",
              "\n",
              "    <script>\n",
              "      const buttonEl =\n",
              "        document.querySelector('#df-5e64548c-447a-4946-a8d0-54c58c35dc92 button.colab-df-convert');\n",
              "      buttonEl.style.display =\n",
              "        google.colab.kernel.accessAllowed ? 'block' : 'none';\n",
              "\n",
              "      async function convertToInteractive(key) {\n",
              "        const element = document.querySelector('#df-5e64548c-447a-4946-a8d0-54c58c35dc92');\n",
              "        const dataTable =\n",
              "          await google.colab.kernel.invokeFunction('convertToInteractive',\n",
              "                                                    [key], {});\n",
              "        if (!dataTable) return;\n",
              "\n",
              "        const docLinkHtml = 'Like what you see? Visit the ' +\n",
              "          '<a target=\"_blank\" href=https://colab.research.google.com/notebooks/data_table.ipynb>data table notebook</a>'\n",
              "          + ' to learn more about interactive tables.';\n",
              "        element.innerHTML = '';\n",
              "        dataTable['output_type'] = 'display_data';\n",
              "        await google.colab.output.renderOutput(dataTable, element);\n",
              "        const docLink = document.createElement('div');\n",
              "        docLink.innerHTML = docLinkHtml;\n",
              "        element.appendChild(docLink);\n",
              "      }\n",
              "    </script>\n",
              "  </div>\n",
              "\n",
              "\n",
              "<div id=\"df-895eea2a-c738-498f-b001-eecb74c20e02\">\n",
              "  <button class=\"colab-df-quickchart\" onclick=\"quickchart('df-895eea2a-c738-498f-b001-eecb74c20e02')\"\n",
              "            title=\"Suggest charts\"\n",
              "            style=\"display:none;\">\n",
              "\n",
              "<svg xmlns=\"http://www.w3.org/2000/svg\" height=\"24px\"viewBox=\"0 0 24 24\"\n",
              "     width=\"24px\">\n",
              "    <g>\n",
              "        <path d=\"M19 3H5c-1.1 0-2 .9-2 2v14c0 1.1.9 2 2 2h14c1.1 0 2-.9 2-2V5c0-1.1-.9-2-2-2zM9 17H7v-7h2v7zm4 0h-2V7h2v10zm4 0h-2v-4h2v4z\"/>\n",
              "    </g>\n",
              "</svg>\n",
              "  </button>\n",
              "\n",
              "<style>\n",
              "  .colab-df-quickchart {\n",
              "      --bg-color: #E8F0FE;\n",
              "      --fill-color: #1967D2;\n",
              "      --hover-bg-color: #E2EBFA;\n",
              "      --hover-fill-color: #174EA6;\n",
              "      --disabled-fill-color: #AAA;\n",
              "      --disabled-bg-color: #DDD;\n",
              "  }\n",
              "\n",
              "  [theme=dark] .colab-df-quickchart {\n",
              "      --bg-color: #3B4455;\n",
              "      --fill-color: #D2E3FC;\n",
              "      --hover-bg-color: #434B5C;\n",
              "      --hover-fill-color: #FFFFFF;\n",
              "      --disabled-bg-color: #3B4455;\n",
              "      --disabled-fill-color: #666;\n",
              "  }\n",
              "\n",
              "  .colab-df-quickchart {\n",
              "    background-color: var(--bg-color);\n",
              "    border: none;\n",
              "    border-radius: 50%;\n",
              "    cursor: pointer;\n",
              "    display: none;\n",
              "    fill: var(--fill-color);\n",
              "    height: 32px;\n",
              "    padding: 0;\n",
              "    width: 32px;\n",
              "  }\n",
              "\n",
              "  .colab-df-quickchart:hover {\n",
              "    background-color: var(--hover-bg-color);\n",
              "    box-shadow: 0 1px 2px rgba(60, 64, 67, 0.3), 0 1px 3px 1px rgba(60, 64, 67, 0.15);\n",
              "    fill: var(--button-hover-fill-color);\n",
              "  }\n",
              "\n",
              "  .colab-df-quickchart-complete:disabled,\n",
              "  .colab-df-quickchart-complete:disabled:hover {\n",
              "    background-color: var(--disabled-bg-color);\n",
              "    fill: var(--disabled-fill-color);\n",
              "    box-shadow: none;\n",
              "  }\n",
              "\n",
              "  .colab-df-spinner {\n",
              "    border: 2px solid var(--fill-color);\n",
              "    border-color: transparent;\n",
              "    border-bottom-color: var(--fill-color);\n",
              "    animation:\n",
              "      spin 1s steps(1) infinite;\n",
              "  }\n",
              "\n",
              "  @keyframes spin {\n",
              "    0% {\n",
              "      border-color: transparent;\n",
              "      border-bottom-color: var(--fill-color);\n",
              "      border-left-color: var(--fill-color);\n",
              "    }\n",
              "    20% {\n",
              "      border-color: transparent;\n",
              "      border-left-color: var(--fill-color);\n",
              "      border-top-color: var(--fill-color);\n",
              "    }\n",
              "    30% {\n",
              "      border-color: transparent;\n",
              "      border-left-color: var(--fill-color);\n",
              "      border-top-color: var(--fill-color);\n",
              "      border-right-color: var(--fill-color);\n",
              "    }\n",
              "    40% {\n",
              "      border-color: transparent;\n",
              "      border-right-color: var(--fill-color);\n",
              "      border-top-color: var(--fill-color);\n",
              "    }\n",
              "    60% {\n",
              "      border-color: transparent;\n",
              "      border-right-color: var(--fill-color);\n",
              "    }\n",
              "    80% {\n",
              "      border-color: transparent;\n",
              "      border-right-color: var(--fill-color);\n",
              "      border-bottom-color: var(--fill-color);\n",
              "    }\n",
              "    90% {\n",
              "      border-color: transparent;\n",
              "      border-bottom-color: var(--fill-color);\n",
              "    }\n",
              "  }\n",
              "</style>\n",
              "\n",
              "  <script>\n",
              "    async function quickchart(key) {\n",
              "      const quickchartButtonEl =\n",
              "        document.querySelector('#' + key + ' button');\n",
              "      quickchartButtonEl.disabled = true;  // To prevent multiple clicks.\n",
              "      quickchartButtonEl.classList.add('colab-df-spinner');\n",
              "      try {\n",
              "        const charts = await google.colab.kernel.invokeFunction(\n",
              "            'suggestCharts', [key], {});\n",
              "      } catch (error) {\n",
              "        console.error('Error during call to suggestCharts:', error);\n",
              "      }\n",
              "      quickchartButtonEl.classList.remove('colab-df-spinner');\n",
              "      quickchartButtonEl.classList.add('colab-df-quickchart-complete');\n",
              "    }\n",
              "    (() => {\n",
              "      let quickchartButtonEl =\n",
              "        document.querySelector('#df-895eea2a-c738-498f-b001-eecb74c20e02 button');\n",
              "      quickchartButtonEl.style.display =\n",
              "        google.colab.kernel.accessAllowed ? 'block' : 'none';\n",
              "    })();\n",
              "  </script>\n",
              "</div>\n",
              "    </div>\n",
              "  </div>\n"
            ],
            "text/plain": [
              "   RowNumber  CustomerId   Surname  CreditScore Geography  Gender  Age  \\\n",
              "0          1    15634602  Hargrave          619    France  Female   42   \n",
              "1          2    15647311      Hill          608     Spain  Female   41   \n",
              "2          3    15619304      Onio          502    France  Female   42   \n",
              "3          4    15701354      Boni          699    France  Female   39   \n",
              "4          5    15737888  Mitchell          850     Spain  Female   43   \n",
              "\n",
              "   Tenure    Balance  NumOfProducts  HasCrCard  IsActiveMember  \\\n",
              "0       2       0.00              1          1               1   \n",
              "1       1   83807.86              1          0               1   \n",
              "2       8  159660.80              3          1               0   \n",
              "3       1       0.00              2          0               0   \n",
              "4       2  125510.82              1          1               1   \n",
              "\n",
              "   EstimatedSalary  Exited  \n",
              "0        101348.88       1  \n",
              "1        112542.58       0  \n",
              "2        113931.57       1  \n",
              "3         93826.63       0  \n",
              "4         79084.10       0  "
            ]
          },
          "execution_count": 45,
          "metadata": {},
          "output_type": "execute_result"
        }
      ],
      "source": [
        "df = pd.read_csv('/content/churn_data.csv')\n",
        "df.head()"
      ]
    },
    {
      "cell_type": "code",
      "execution_count": null,
      "id": "e89075bd",
      "metadata": {
        "colab": {
          "base_uri": "https://localhost:8080/"
        },
        "execution": {
          "iopub.execute_input": "2023-05-28T19:26:12.134586Z",
          "iopub.status.busy": "2023-05-28T19:26:12.133181Z",
          "iopub.status.idle": "2023-05-28T19:26:12.141035Z",
          "shell.execute_reply": "2023-05-28T19:26:12.139982Z"
        },
        "id": "e89075bd",
        "outputId": "5c67ecaf-f45e-4183-c860-5195324842d4",
        "papermill": {
          "duration": 0.032819,
          "end_time": "2023-05-28T19:26:12.143337",
          "exception": false,
          "start_time": "2023-05-28T19:26:12.110518",
          "status": "completed"
        },
        "tags": []
      },
      "outputs": [
        {
          "data": {
            "text/plain": [
              "(10000, 14)"
            ]
          },
          "execution_count": 46,
          "metadata": {},
          "output_type": "execute_result"
        }
      ],
      "source": [
        "df.shape"
      ]
    },
    {
      "cell_type": "code",
      "execution_count": null,
      "id": "797c472d",
      "metadata": {
        "colab": {
          "base_uri": "https://localhost:8080/"
        },
        "execution": {
          "iopub.execute_input": "2023-05-28T19:26:12.188656Z",
          "iopub.status.busy": "2023-05-28T19:26:12.187492Z",
          "iopub.status.idle": "2023-05-28T19:26:12.194994Z",
          "shell.execute_reply": "2023-05-28T19:26:12.193987Z"
        },
        "id": "797c472d",
        "outputId": "95407842-88fd-4a30-e9ee-5a8f22d490d7",
        "papermill": {
          "duration": 0.032337,
          "end_time": "2023-05-28T19:26:12.197277",
          "exception": false,
          "start_time": "2023-05-28T19:26:12.164940",
          "status": "completed"
        },
        "tags": []
      },
      "outputs": [
        {
          "data": {
            "text/plain": [
              "Index(['RowNumber', 'CustomerId', 'Surname', 'CreditScore', 'Geography',\n",
              "       'Gender', 'Age', 'Tenure', 'Balance', 'NumOfProducts', 'HasCrCard',\n",
              "       'IsActiveMember', 'EstimatedSalary', 'Exited'],\n",
              "      dtype='object')"
            ]
          },
          "execution_count": 47,
          "metadata": {},
          "output_type": "execute_result"
        }
      ],
      "source": [
        "df.columns"
      ]
    },
    {
      "cell_type": "code",
      "execution_count": null,
      "id": "4db54d08",
      "metadata": {
        "colab": {
          "base_uri": "https://localhost:8080/"
        },
        "execution": {
          "iopub.execute_input": "2023-05-28T19:26:12.242379Z",
          "iopub.status.busy": "2023-05-28T19:26:12.241644Z",
          "iopub.status.idle": "2023-05-28T19:26:12.280770Z",
          "shell.execute_reply": "2023-05-28T19:26:12.279451Z"
        },
        "id": "4db54d08",
        "outputId": "440d214a-9761-4c3a-add4-6abb654b69f0",
        "papermill": {
          "duration": 0.064757,
          "end_time": "2023-05-28T19:26:12.283403",
          "exception": false,
          "start_time": "2023-05-28T19:26:12.218646",
          "status": "completed"
        },
        "tags": []
      },
      "outputs": [
        {
          "name": "stdout",
          "output_type": "stream",
          "text": [
            "<class 'pandas.core.frame.DataFrame'>\n",
            "RangeIndex: 10000 entries, 0 to 9999\n",
            "Data columns (total 14 columns):\n",
            " #   Column           Non-Null Count  Dtype  \n",
            "---  ------           --------------  -----  \n",
            " 0   RowNumber        10000 non-null  int64  \n",
            " 1   CustomerId       10000 non-null  int64  \n",
            " 2   Surname          10000 non-null  object \n",
            " 3   CreditScore      10000 non-null  int64  \n",
            " 4   Geography        10000 non-null  object \n",
            " 5   Gender           10000 non-null  object \n",
            " 6   Age              10000 non-null  int64  \n",
            " 7   Tenure           10000 non-null  int64  \n",
            " 8   Balance          10000 non-null  float64\n",
            " 9   NumOfProducts    10000 non-null  int64  \n",
            " 10  HasCrCard        10000 non-null  int64  \n",
            " 11  IsActiveMember   10000 non-null  int64  \n",
            " 12  EstimatedSalary  10000 non-null  float64\n",
            " 13  Exited           10000 non-null  int64  \n",
            "dtypes: float64(2), int64(9), object(3)\n",
            "memory usage: 1.1+ MB\n"
          ]
        }
      ],
      "source": [
        "df.info()"
      ]
    },
    {
      "cell_type": "code",
      "execution_count": null,
      "id": "e218031f",
      "metadata": {
        "colab": {
          "base_uri": "https://localhost:8080/",
          "height": 394
        },
        "execution": {
          "iopub.execute_input": "2023-05-28T19:26:12.329004Z",
          "iopub.status.busy": "2023-05-28T19:26:12.328554Z",
          "iopub.status.idle": "2023-05-28T19:26:12.387355Z",
          "shell.execute_reply": "2023-05-28T19:26:12.386295Z"
        },
        "id": "e218031f",
        "outputId": "23158a0f-28d8-41dd-a7ad-d4363353cd76",
        "papermill": {
          "duration": 0.085302,
          "end_time": "2023-05-28T19:26:12.390505",
          "exception": false,
          "start_time": "2023-05-28T19:26:12.305203",
          "status": "completed"
        },
        "tags": []
      },
      "outputs": [
        {
          "data": {
            "application/vnd.google.colaboratory.intrinsic+json": {
              "summary": "{\n  \"name\": \"df\",\n  \"rows\": 11,\n  \"fields\": [\n    {\n      \"column\": \"count\",\n      \"properties\": {\n        \"dtype\": \"number\",\n        \"std\": 0.0,\n        \"min\": 10000.0,\n        \"max\": 10000.0,\n        \"num_unique_values\": 1,\n        \"samples\": [\n          10000.0\n        ],\n        \"semantic_type\": \"\",\n        \"description\": \"\"\n      }\n    },\n    {\n      \"column\": \"mean\",\n      \"properties\": {\n        \"dtype\": \"number\",\n        \"std\": 4725633.832008535,\n        \"min\": 0.2037,\n        \"max\": 15690940.5694,\n        \"num_unique_values\": 11,\n        \"samples\": [\n          76485.889288\n        ],\n        \"semantic_type\": \"\",\n        \"description\": \"\"\n      }\n    },\n    {\n      \"column\": \"std\",\n      \"properties\": {\n        \"dtype\": \"number\",\n        \"std\": 29887.788580147335,\n        \"min\": 0.4027685839948609,\n        \"max\": 71936.1861227489,\n        \"num_unique_values\": 11,\n        \"samples\": [\n          62397.405202385955\n        ],\n        \"semantic_type\": \"\",\n        \"description\": \"\"\n      }\n    },\n    {\n      \"column\": \"min\",\n      \"properties\": {\n        \"dtype\": \"number\",\n        \"std\": 4693223.933890408,\n        \"min\": 0.0,\n        \"max\": 15565701.0,\n        \"num_unique_values\": 6,\n        \"samples\": [\n          1.0\n        ],\n        \"semantic_type\": \"\",\n        \"description\": \"\"\n      }\n    },\n    {\n      \"column\": \"25%\",\n      \"properties\": {\n        \"dtype\": \"number\",\n        \"std\": 4710571.272009816,\n        \"min\": 0.0,\n        \"max\": 15628528.25,\n        \"num_unique_values\": 8,\n        \"samples\": [\n          15628528.25\n        ],\n        \"semantic_type\": \"\",\n        \"description\": \"\"\n      }\n    },\n    {\n      \"column\": \"50%\",\n      \"properties\": {\n        \"dtype\": \"number\",\n        \"std\": 4724974.951024561,\n        \"min\": 0.0,\n        \"max\": 15690738.0,\n        \"num_unique_values\": 9,\n        \"samples\": [\n          100193.915\n        ],\n        \"semantic_type\": \"\",\n        \"description\": \"\"\n      }\n    },\n    {\n      \"column\": \"75%\",\n      \"properties\": {\n        \"dtype\": \"number\",\n        \"std\": 4741498.318906077,\n        \"min\": 0.0,\n        \"max\": 15753233.75,\n        \"num_unique_values\": 10,\n        \"samples\": [\n          149388.2475\n        ],\n        \"semantic_type\": \"\",\n        \"description\": \"\"\n      }\n    },\n    {\n      \"column\": \"max\",\n      \"properties\": {\n        \"dtype\": \"number\",\n        \"std\": 4755543.923393698,\n        \"min\": 1.0,\n        \"max\": 15815690.0,\n        \"num_unique_values\": 9,\n        \"samples\": [\n          1.0\n        ],\n        \"semantic_type\": \"\",\n        \"description\": \"\"\n      }\n    }\n  ]\n}",
              "type": "dataframe"
            },
            "text/html": [
              "\n",
              "  <div id=\"df-7ef6ef45-0ac4-4454-a89c-1058756e58b9\" class=\"colab-df-container\">\n",
              "    <div>\n",
              "<style scoped>\n",
              "    .dataframe tbody tr th:only-of-type {\n",
              "        vertical-align: middle;\n",
              "    }\n",
              "\n",
              "    .dataframe tbody tr th {\n",
              "        vertical-align: top;\n",
              "    }\n",
              "\n",
              "    .dataframe thead th {\n",
              "        text-align: right;\n",
              "    }\n",
              "</style>\n",
              "<table border=\"1\" class=\"dataframe\">\n",
              "  <thead>\n",
              "    <tr style=\"text-align: right;\">\n",
              "      <th></th>\n",
              "      <th>count</th>\n",
              "      <th>mean</th>\n",
              "      <th>std</th>\n",
              "      <th>min</th>\n",
              "      <th>25%</th>\n",
              "      <th>50%</th>\n",
              "      <th>75%</th>\n",
              "      <th>max</th>\n",
              "    </tr>\n",
              "  </thead>\n",
              "  <tbody>\n",
              "    <tr>\n",
              "      <th>RowNumber</th>\n",
              "      <td>10000.0</td>\n",
              "      <td>5.000500e+03</td>\n",
              "      <td>2886.895680</td>\n",
              "      <td>1.00</td>\n",
              "      <td>2500.75</td>\n",
              "      <td>5.000500e+03</td>\n",
              "      <td>7.500250e+03</td>\n",
              "      <td>10000.00</td>\n",
              "    </tr>\n",
              "    <tr>\n",
              "      <th>CustomerId</th>\n",
              "      <td>10000.0</td>\n",
              "      <td>1.569094e+07</td>\n",
              "      <td>71936.186123</td>\n",
              "      <td>15565701.00</td>\n",
              "      <td>15628528.25</td>\n",
              "      <td>1.569074e+07</td>\n",
              "      <td>1.575323e+07</td>\n",
              "      <td>15815690.00</td>\n",
              "    </tr>\n",
              "    <tr>\n",
              "      <th>CreditScore</th>\n",
              "      <td>10000.0</td>\n",
              "      <td>6.505288e+02</td>\n",
              "      <td>96.653299</td>\n",
              "      <td>350.00</td>\n",
              "      <td>584.00</td>\n",
              "      <td>6.520000e+02</td>\n",
              "      <td>7.180000e+02</td>\n",
              "      <td>850.00</td>\n",
              "    </tr>\n",
              "    <tr>\n",
              "      <th>Age</th>\n",
              "      <td>10000.0</td>\n",
              "      <td>3.892180e+01</td>\n",
              "      <td>10.487806</td>\n",
              "      <td>18.00</td>\n",
              "      <td>32.00</td>\n",
              "      <td>3.700000e+01</td>\n",
              "      <td>4.400000e+01</td>\n",
              "      <td>92.00</td>\n",
              "    </tr>\n",
              "    <tr>\n",
              "      <th>Tenure</th>\n",
              "      <td>10000.0</td>\n",
              "      <td>5.012800e+00</td>\n",
              "      <td>2.892174</td>\n",
              "      <td>0.00</td>\n",
              "      <td>3.00</td>\n",
              "      <td>5.000000e+00</td>\n",
              "      <td>7.000000e+00</td>\n",
              "      <td>10.00</td>\n",
              "    </tr>\n",
              "    <tr>\n",
              "      <th>Balance</th>\n",
              "      <td>10000.0</td>\n",
              "      <td>7.648589e+04</td>\n",
              "      <td>62397.405202</td>\n",
              "      <td>0.00</td>\n",
              "      <td>0.00</td>\n",
              "      <td>9.719854e+04</td>\n",
              "      <td>1.276442e+05</td>\n",
              "      <td>250898.09</td>\n",
              "    </tr>\n",
              "    <tr>\n",
              "      <th>NumOfProducts</th>\n",
              "      <td>10000.0</td>\n",
              "      <td>1.530200e+00</td>\n",
              "      <td>0.581654</td>\n",
              "      <td>1.00</td>\n",
              "      <td>1.00</td>\n",
              "      <td>1.000000e+00</td>\n",
              "      <td>2.000000e+00</td>\n",
              "      <td>4.00</td>\n",
              "    </tr>\n",
              "    <tr>\n",
              "      <th>HasCrCard</th>\n",
              "      <td>10000.0</td>\n",
              "      <td>7.055000e-01</td>\n",
              "      <td>0.455840</td>\n",
              "      <td>0.00</td>\n",
              "      <td>0.00</td>\n",
              "      <td>1.000000e+00</td>\n",
              "      <td>1.000000e+00</td>\n",
              "      <td>1.00</td>\n",
              "    </tr>\n",
              "    <tr>\n",
              "      <th>IsActiveMember</th>\n",
              "      <td>10000.0</td>\n",
              "      <td>5.151000e-01</td>\n",
              "      <td>0.499797</td>\n",
              "      <td>0.00</td>\n",
              "      <td>0.00</td>\n",
              "      <td>1.000000e+00</td>\n",
              "      <td>1.000000e+00</td>\n",
              "      <td>1.00</td>\n",
              "    </tr>\n",
              "    <tr>\n",
              "      <th>EstimatedSalary</th>\n",
              "      <td>10000.0</td>\n",
              "      <td>1.000902e+05</td>\n",
              "      <td>57510.492818</td>\n",
              "      <td>11.58</td>\n",
              "      <td>51002.11</td>\n",
              "      <td>1.001939e+05</td>\n",
              "      <td>1.493882e+05</td>\n",
              "      <td>199992.48</td>\n",
              "    </tr>\n",
              "    <tr>\n",
              "      <th>Exited</th>\n",
              "      <td>10000.0</td>\n",
              "      <td>2.037000e-01</td>\n",
              "      <td>0.402769</td>\n",
              "      <td>0.00</td>\n",
              "      <td>0.00</td>\n",
              "      <td>0.000000e+00</td>\n",
              "      <td>0.000000e+00</td>\n",
              "      <td>1.00</td>\n",
              "    </tr>\n",
              "  </tbody>\n",
              "</table>\n",
              "</div>\n",
              "    <div class=\"colab-df-buttons\">\n",
              "\n",
              "  <div class=\"colab-df-container\">\n",
              "    <button class=\"colab-df-convert\" onclick=\"convertToInteractive('df-7ef6ef45-0ac4-4454-a89c-1058756e58b9')\"\n",
              "            title=\"Convert this dataframe to an interactive table.\"\n",
              "            style=\"display:none;\">\n",
              "\n",
              "  <svg xmlns=\"http://www.w3.org/2000/svg\" height=\"24px\" viewBox=\"0 -960 960 960\">\n",
              "    <path d=\"M120-120v-720h720v720H120Zm60-500h600v-160H180v160Zm220 220h160v-160H400v160Zm0 220h160v-160H400v160ZM180-400h160v-160H180v160Zm440 0h160v-160H620v160ZM180-180h160v-160H180v160Zm440 0h160v-160H620v160Z\"/>\n",
              "  </svg>\n",
              "    </button>\n",
              "\n",
              "  <style>\n",
              "    .colab-df-container {\n",
              "      display:flex;\n",
              "      gap: 12px;\n",
              "    }\n",
              "\n",
              "    .colab-df-convert {\n",
              "      background-color: #E8F0FE;\n",
              "      border: none;\n",
              "      border-radius: 50%;\n",
              "      cursor: pointer;\n",
              "      display: none;\n",
              "      fill: #1967D2;\n",
              "      height: 32px;\n",
              "      padding: 0 0 0 0;\n",
              "      width: 32px;\n",
              "    }\n",
              "\n",
              "    .colab-df-convert:hover {\n",
              "      background-color: #E2EBFA;\n",
              "      box-shadow: 0px 1px 2px rgba(60, 64, 67, 0.3), 0px 1px 3px 1px rgba(60, 64, 67, 0.15);\n",
              "      fill: #174EA6;\n",
              "    }\n",
              "\n",
              "    .colab-df-buttons div {\n",
              "      margin-bottom: 4px;\n",
              "    }\n",
              "\n",
              "    [theme=dark] .colab-df-convert {\n",
              "      background-color: #3B4455;\n",
              "      fill: #D2E3FC;\n",
              "    }\n",
              "\n",
              "    [theme=dark] .colab-df-convert:hover {\n",
              "      background-color: #434B5C;\n",
              "      box-shadow: 0px 1px 3px 1px rgba(0, 0, 0, 0.15);\n",
              "      filter: drop-shadow(0px 1px 2px rgba(0, 0, 0, 0.3));\n",
              "      fill: #FFFFFF;\n",
              "    }\n",
              "  </style>\n",
              "\n",
              "    <script>\n",
              "      const buttonEl =\n",
              "        document.querySelector('#df-7ef6ef45-0ac4-4454-a89c-1058756e58b9 button.colab-df-convert');\n",
              "      buttonEl.style.display =\n",
              "        google.colab.kernel.accessAllowed ? 'block' : 'none';\n",
              "\n",
              "      async function convertToInteractive(key) {\n",
              "        const element = document.querySelector('#df-7ef6ef45-0ac4-4454-a89c-1058756e58b9');\n",
              "        const dataTable =\n",
              "          await google.colab.kernel.invokeFunction('convertToInteractive',\n",
              "                                                    [key], {});\n",
              "        if (!dataTable) return;\n",
              "\n",
              "        const docLinkHtml = 'Like what you see? Visit the ' +\n",
              "          '<a target=\"_blank\" href=https://colab.research.google.com/notebooks/data_table.ipynb>data table notebook</a>'\n",
              "          + ' to learn more about interactive tables.';\n",
              "        element.innerHTML = '';\n",
              "        dataTable['output_type'] = 'display_data';\n",
              "        await google.colab.output.renderOutput(dataTable, element);\n",
              "        const docLink = document.createElement('div');\n",
              "        docLink.innerHTML = docLinkHtml;\n",
              "        element.appendChild(docLink);\n",
              "      }\n",
              "    </script>\n",
              "  </div>\n",
              "\n",
              "\n",
              "<div id=\"df-a9a6f131-5192-4f61-a5f1-38b5b588547b\">\n",
              "  <button class=\"colab-df-quickchart\" onclick=\"quickchart('df-a9a6f131-5192-4f61-a5f1-38b5b588547b')\"\n",
              "            title=\"Suggest charts\"\n",
              "            style=\"display:none;\">\n",
              "\n",
              "<svg xmlns=\"http://www.w3.org/2000/svg\" height=\"24px\"viewBox=\"0 0 24 24\"\n",
              "     width=\"24px\">\n",
              "    <g>\n",
              "        <path d=\"M19 3H5c-1.1 0-2 .9-2 2v14c0 1.1.9 2 2 2h14c1.1 0 2-.9 2-2V5c0-1.1-.9-2-2-2zM9 17H7v-7h2v7zm4 0h-2V7h2v10zm4 0h-2v-4h2v4z\"/>\n",
              "    </g>\n",
              "</svg>\n",
              "  </button>\n",
              "\n",
              "<style>\n",
              "  .colab-df-quickchart {\n",
              "      --bg-color: #E8F0FE;\n",
              "      --fill-color: #1967D2;\n",
              "      --hover-bg-color: #E2EBFA;\n",
              "      --hover-fill-color: #174EA6;\n",
              "      --disabled-fill-color: #AAA;\n",
              "      --disabled-bg-color: #DDD;\n",
              "  }\n",
              "\n",
              "  [theme=dark] .colab-df-quickchart {\n",
              "      --bg-color: #3B4455;\n",
              "      --fill-color: #D2E3FC;\n",
              "      --hover-bg-color: #434B5C;\n",
              "      --hover-fill-color: #FFFFFF;\n",
              "      --disabled-bg-color: #3B4455;\n",
              "      --disabled-fill-color: #666;\n",
              "  }\n",
              "\n",
              "  .colab-df-quickchart {\n",
              "    background-color: var(--bg-color);\n",
              "    border: none;\n",
              "    border-radius: 50%;\n",
              "    cursor: pointer;\n",
              "    display: none;\n",
              "    fill: var(--fill-color);\n",
              "    height: 32px;\n",
              "    padding: 0;\n",
              "    width: 32px;\n",
              "  }\n",
              "\n",
              "  .colab-df-quickchart:hover {\n",
              "    background-color: var(--hover-bg-color);\n",
              "    box-shadow: 0 1px 2px rgba(60, 64, 67, 0.3), 0 1px 3px 1px rgba(60, 64, 67, 0.15);\n",
              "    fill: var(--button-hover-fill-color);\n",
              "  }\n",
              "\n",
              "  .colab-df-quickchart-complete:disabled,\n",
              "  .colab-df-quickchart-complete:disabled:hover {\n",
              "    background-color: var(--disabled-bg-color);\n",
              "    fill: var(--disabled-fill-color);\n",
              "    box-shadow: none;\n",
              "  }\n",
              "\n",
              "  .colab-df-spinner {\n",
              "    border: 2px solid var(--fill-color);\n",
              "    border-color: transparent;\n",
              "    border-bottom-color: var(--fill-color);\n",
              "    animation:\n",
              "      spin 1s steps(1) infinite;\n",
              "  }\n",
              "\n",
              "  @keyframes spin {\n",
              "    0% {\n",
              "      border-color: transparent;\n",
              "      border-bottom-color: var(--fill-color);\n",
              "      border-left-color: var(--fill-color);\n",
              "    }\n",
              "    20% {\n",
              "      border-color: transparent;\n",
              "      border-left-color: var(--fill-color);\n",
              "      border-top-color: var(--fill-color);\n",
              "    }\n",
              "    30% {\n",
              "      border-color: transparent;\n",
              "      border-left-color: var(--fill-color);\n",
              "      border-top-color: var(--fill-color);\n",
              "      border-right-color: var(--fill-color);\n",
              "    }\n",
              "    40% {\n",
              "      border-color: transparent;\n",
              "      border-right-color: var(--fill-color);\n",
              "      border-top-color: var(--fill-color);\n",
              "    }\n",
              "    60% {\n",
              "      border-color: transparent;\n",
              "      border-right-color: var(--fill-color);\n",
              "    }\n",
              "    80% {\n",
              "      border-color: transparent;\n",
              "      border-right-color: var(--fill-color);\n",
              "      border-bottom-color: var(--fill-color);\n",
              "    }\n",
              "    90% {\n",
              "      border-color: transparent;\n",
              "      border-bottom-color: var(--fill-color);\n",
              "    }\n",
              "  }\n",
              "</style>\n",
              "\n",
              "  <script>\n",
              "    async function quickchart(key) {\n",
              "      const quickchartButtonEl =\n",
              "        document.querySelector('#' + key + ' button');\n",
              "      quickchartButtonEl.disabled = true;  // To prevent multiple clicks.\n",
              "      quickchartButtonEl.classList.add('colab-df-spinner');\n",
              "      try {\n",
              "        const charts = await google.colab.kernel.invokeFunction(\n",
              "            'suggestCharts', [key], {});\n",
              "      } catch (error) {\n",
              "        console.error('Error during call to suggestCharts:', error);\n",
              "      }\n",
              "      quickchartButtonEl.classList.remove('colab-df-spinner');\n",
              "      quickchartButtonEl.classList.add('colab-df-quickchart-complete');\n",
              "    }\n",
              "    (() => {\n",
              "      let quickchartButtonEl =\n",
              "        document.querySelector('#df-a9a6f131-5192-4f61-a5f1-38b5b588547b button');\n",
              "      quickchartButtonEl.style.display =\n",
              "        google.colab.kernel.accessAllowed ? 'block' : 'none';\n",
              "    })();\n",
              "  </script>\n",
              "</div>\n",
              "    </div>\n",
              "  </div>\n"
            ],
            "text/plain": [
              "                   count          mean           std          min  \\\n",
              "RowNumber        10000.0  5.000500e+03   2886.895680         1.00   \n",
              "CustomerId       10000.0  1.569094e+07  71936.186123  15565701.00   \n",
              "CreditScore      10000.0  6.505288e+02     96.653299       350.00   \n",
              "Age              10000.0  3.892180e+01     10.487806        18.00   \n",
              "Tenure           10000.0  5.012800e+00      2.892174         0.00   \n",
              "Balance          10000.0  7.648589e+04  62397.405202         0.00   \n",
              "NumOfProducts    10000.0  1.530200e+00      0.581654         1.00   \n",
              "HasCrCard        10000.0  7.055000e-01      0.455840         0.00   \n",
              "IsActiveMember   10000.0  5.151000e-01      0.499797         0.00   \n",
              "EstimatedSalary  10000.0  1.000902e+05  57510.492818        11.58   \n",
              "Exited           10000.0  2.037000e-01      0.402769         0.00   \n",
              "\n",
              "                         25%           50%           75%          max  \n",
              "RowNumber            2500.75  5.000500e+03  7.500250e+03     10000.00  \n",
              "CustomerId       15628528.25  1.569074e+07  1.575323e+07  15815690.00  \n",
              "CreditScore           584.00  6.520000e+02  7.180000e+02       850.00  \n",
              "Age                    32.00  3.700000e+01  4.400000e+01        92.00  \n",
              "Tenure                  3.00  5.000000e+00  7.000000e+00        10.00  \n",
              "Balance                 0.00  9.719854e+04  1.276442e+05    250898.09  \n",
              "NumOfProducts           1.00  1.000000e+00  2.000000e+00         4.00  \n",
              "HasCrCard               0.00  1.000000e+00  1.000000e+00         1.00  \n",
              "IsActiveMember          0.00  1.000000e+00  1.000000e+00         1.00  \n",
              "EstimatedSalary     51002.11  1.001939e+05  1.493882e+05    199992.48  \n",
              "Exited                  0.00  0.000000e+00  0.000000e+00         1.00  "
            ]
          },
          "execution_count": 49,
          "metadata": {},
          "output_type": "execute_result"
        }
      ],
      "source": [
        "#Check statistical values for fields with numerical datatype\n",
        "df.describe().T"
      ]
    },
    {
      "cell_type": "code",
      "execution_count": null,
      "id": "9244681e",
      "metadata": {
        "colab": {
          "base_uri": "https://localhost:8080/",
          "height": 143
        },
        "execution": {
          "iopub.execute_input": "2023-05-28T19:26:12.436416Z",
          "iopub.status.busy": "2023-05-28T19:26:12.436008Z",
          "iopub.status.idle": "2023-05-28T19:26:12.463563Z",
          "shell.execute_reply": "2023-05-28T19:26:12.462471Z"
        },
        "id": "9244681e",
        "outputId": "1b1e4c83-317a-4d65-a4be-84a3cb95a376",
        "papermill": {
          "duration": 0.05404,
          "end_time": "2023-05-28T19:26:12.466502",
          "exception": false,
          "start_time": "2023-05-28T19:26:12.412462",
          "status": "completed"
        },
        "tags": []
      },
      "outputs": [
        {
          "data": {
            "application/vnd.google.colaboratory.intrinsic+json": {
              "summary": "{\n  \"name\": \"df\",\n  \"rows\": 3,\n  \"fields\": [\n    {\n      \"column\": \"count\",\n      \"properties\": {\n        \"dtype\": \"date\",\n        \"min\": \"10000\",\n        \"max\": \"10000\",\n        \"num_unique_values\": 1,\n        \"samples\": [\n          \"10000\"\n        ],\n        \"semantic_type\": \"\",\n        \"description\": \"\"\n      }\n    },\n    {\n      \"column\": \"unique\",\n      \"properties\": {\n        \"dtype\": \"date\",\n        \"min\": 2,\n        \"max\": 2932,\n        \"num_unique_values\": 3,\n        \"samples\": [\n          2932\n        ],\n        \"semantic_type\": \"\",\n        \"description\": \"\"\n      }\n    },\n    {\n      \"column\": \"top\",\n      \"properties\": {\n        \"dtype\": \"string\",\n        \"num_unique_values\": 3,\n        \"samples\": [\n          \"Smith\"\n        ],\n        \"semantic_type\": \"\",\n        \"description\": \"\"\n      }\n    },\n    {\n      \"column\": \"freq\",\n      \"properties\": {\n        \"dtype\": \"date\",\n        \"min\": \"32\",\n        \"max\": \"5457\",\n        \"num_unique_values\": 3,\n        \"samples\": [\n          \"32\"\n        ],\n        \"semantic_type\": \"\",\n        \"description\": \"\"\n      }\n    }\n  ]\n}",
              "type": "dataframe"
            },
            "text/html": [
              "\n",
              "  <div id=\"df-a25bd3fe-8d03-4d6b-9208-dd624c410683\" class=\"colab-df-container\">\n",
              "    <div>\n",
              "<style scoped>\n",
              "    .dataframe tbody tr th:only-of-type {\n",
              "        vertical-align: middle;\n",
              "    }\n",
              "\n",
              "    .dataframe tbody tr th {\n",
              "        vertical-align: top;\n",
              "    }\n",
              "\n",
              "    .dataframe thead th {\n",
              "        text-align: right;\n",
              "    }\n",
              "</style>\n",
              "<table border=\"1\" class=\"dataframe\">\n",
              "  <thead>\n",
              "    <tr style=\"text-align: right;\">\n",
              "      <th></th>\n",
              "      <th>count</th>\n",
              "      <th>unique</th>\n",
              "      <th>top</th>\n",
              "      <th>freq</th>\n",
              "    </tr>\n",
              "  </thead>\n",
              "  <tbody>\n",
              "    <tr>\n",
              "      <th>Surname</th>\n",
              "      <td>10000</td>\n",
              "      <td>2932</td>\n",
              "      <td>Smith</td>\n",
              "      <td>32</td>\n",
              "    </tr>\n",
              "    <tr>\n",
              "      <th>Geography</th>\n",
              "      <td>10000</td>\n",
              "      <td>3</td>\n",
              "      <td>France</td>\n",
              "      <td>5014</td>\n",
              "    </tr>\n",
              "    <tr>\n",
              "      <th>Gender</th>\n",
              "      <td>10000</td>\n",
              "      <td>2</td>\n",
              "      <td>Male</td>\n",
              "      <td>5457</td>\n",
              "    </tr>\n",
              "  </tbody>\n",
              "</table>\n",
              "</div>\n",
              "    <div class=\"colab-df-buttons\">\n",
              "\n",
              "  <div class=\"colab-df-container\">\n",
              "    <button class=\"colab-df-convert\" onclick=\"convertToInteractive('df-a25bd3fe-8d03-4d6b-9208-dd624c410683')\"\n",
              "            title=\"Convert this dataframe to an interactive table.\"\n",
              "            style=\"display:none;\">\n",
              "\n",
              "  <svg xmlns=\"http://www.w3.org/2000/svg\" height=\"24px\" viewBox=\"0 -960 960 960\">\n",
              "    <path d=\"M120-120v-720h720v720H120Zm60-500h600v-160H180v160Zm220 220h160v-160H400v160Zm0 220h160v-160H400v160ZM180-400h160v-160H180v160Zm440 0h160v-160H620v160ZM180-180h160v-160H180v160Zm440 0h160v-160H620v160Z\"/>\n",
              "  </svg>\n",
              "    </button>\n",
              "\n",
              "  <style>\n",
              "    .colab-df-container {\n",
              "      display:flex;\n",
              "      gap: 12px;\n",
              "    }\n",
              "\n",
              "    .colab-df-convert {\n",
              "      background-color: #E8F0FE;\n",
              "      border: none;\n",
              "      border-radius: 50%;\n",
              "      cursor: pointer;\n",
              "      display: none;\n",
              "      fill: #1967D2;\n",
              "      height: 32px;\n",
              "      padding: 0 0 0 0;\n",
              "      width: 32px;\n",
              "    }\n",
              "\n",
              "    .colab-df-convert:hover {\n",
              "      background-color: #E2EBFA;\n",
              "      box-shadow: 0px 1px 2px rgba(60, 64, 67, 0.3), 0px 1px 3px 1px rgba(60, 64, 67, 0.15);\n",
              "      fill: #174EA6;\n",
              "    }\n",
              "\n",
              "    .colab-df-buttons div {\n",
              "      margin-bottom: 4px;\n",
              "    }\n",
              "\n",
              "    [theme=dark] .colab-df-convert {\n",
              "      background-color: #3B4455;\n",
              "      fill: #D2E3FC;\n",
              "    }\n",
              "\n",
              "    [theme=dark] .colab-df-convert:hover {\n",
              "      background-color: #434B5C;\n",
              "      box-shadow: 0px 1px 3px 1px rgba(0, 0, 0, 0.15);\n",
              "      filter: drop-shadow(0px 1px 2px rgba(0, 0, 0, 0.3));\n",
              "      fill: #FFFFFF;\n",
              "    }\n",
              "  </style>\n",
              "\n",
              "    <script>\n",
              "      const buttonEl =\n",
              "        document.querySelector('#df-a25bd3fe-8d03-4d6b-9208-dd624c410683 button.colab-df-convert');\n",
              "      buttonEl.style.display =\n",
              "        google.colab.kernel.accessAllowed ? 'block' : 'none';\n",
              "\n",
              "      async function convertToInteractive(key) {\n",
              "        const element = document.querySelector('#df-a25bd3fe-8d03-4d6b-9208-dd624c410683');\n",
              "        const dataTable =\n",
              "          await google.colab.kernel.invokeFunction('convertToInteractive',\n",
              "                                                    [key], {});\n",
              "        if (!dataTable) return;\n",
              "\n",
              "        const docLinkHtml = 'Like what you see? Visit the ' +\n",
              "          '<a target=\"_blank\" href=https://colab.research.google.com/notebooks/data_table.ipynb>data table notebook</a>'\n",
              "          + ' to learn more about interactive tables.';\n",
              "        element.innerHTML = '';\n",
              "        dataTable['output_type'] = 'display_data';\n",
              "        await google.colab.output.renderOutput(dataTable, element);\n",
              "        const docLink = document.createElement('div');\n",
              "        docLink.innerHTML = docLinkHtml;\n",
              "        element.appendChild(docLink);\n",
              "      }\n",
              "    </script>\n",
              "  </div>\n",
              "\n",
              "\n",
              "<div id=\"df-b29b63df-2a81-4d62-871a-17f5f2dd0047\">\n",
              "  <button class=\"colab-df-quickchart\" onclick=\"quickchart('df-b29b63df-2a81-4d62-871a-17f5f2dd0047')\"\n",
              "            title=\"Suggest charts\"\n",
              "            style=\"display:none;\">\n",
              "\n",
              "<svg xmlns=\"http://www.w3.org/2000/svg\" height=\"24px\"viewBox=\"0 0 24 24\"\n",
              "     width=\"24px\">\n",
              "    <g>\n",
              "        <path d=\"M19 3H5c-1.1 0-2 .9-2 2v14c0 1.1.9 2 2 2h14c1.1 0 2-.9 2-2V5c0-1.1-.9-2-2-2zM9 17H7v-7h2v7zm4 0h-2V7h2v10zm4 0h-2v-4h2v4z\"/>\n",
              "    </g>\n",
              "</svg>\n",
              "  </button>\n",
              "\n",
              "<style>\n",
              "  .colab-df-quickchart {\n",
              "      --bg-color: #E8F0FE;\n",
              "      --fill-color: #1967D2;\n",
              "      --hover-bg-color: #E2EBFA;\n",
              "      --hover-fill-color: #174EA6;\n",
              "      --disabled-fill-color: #AAA;\n",
              "      --disabled-bg-color: #DDD;\n",
              "  }\n",
              "\n",
              "  [theme=dark] .colab-df-quickchart {\n",
              "      --bg-color: #3B4455;\n",
              "      --fill-color: #D2E3FC;\n",
              "      --hover-bg-color: #434B5C;\n",
              "      --hover-fill-color: #FFFFFF;\n",
              "      --disabled-bg-color: #3B4455;\n",
              "      --disabled-fill-color: #666;\n",
              "  }\n",
              "\n",
              "  .colab-df-quickchart {\n",
              "    background-color: var(--bg-color);\n",
              "    border: none;\n",
              "    border-radius: 50%;\n",
              "    cursor: pointer;\n",
              "    display: none;\n",
              "    fill: var(--fill-color);\n",
              "    height: 32px;\n",
              "    padding: 0;\n",
              "    width: 32px;\n",
              "  }\n",
              "\n",
              "  .colab-df-quickchart:hover {\n",
              "    background-color: var(--hover-bg-color);\n",
              "    box-shadow: 0 1px 2px rgba(60, 64, 67, 0.3), 0 1px 3px 1px rgba(60, 64, 67, 0.15);\n",
              "    fill: var(--button-hover-fill-color);\n",
              "  }\n",
              "\n",
              "  .colab-df-quickchart-complete:disabled,\n",
              "  .colab-df-quickchart-complete:disabled:hover {\n",
              "    background-color: var(--disabled-bg-color);\n",
              "    fill: var(--disabled-fill-color);\n",
              "    box-shadow: none;\n",
              "  }\n",
              "\n",
              "  .colab-df-spinner {\n",
              "    border: 2px solid var(--fill-color);\n",
              "    border-color: transparent;\n",
              "    border-bottom-color: var(--fill-color);\n",
              "    animation:\n",
              "      spin 1s steps(1) infinite;\n",
              "  }\n",
              "\n",
              "  @keyframes spin {\n",
              "    0% {\n",
              "      border-color: transparent;\n",
              "      border-bottom-color: var(--fill-color);\n",
              "      border-left-color: var(--fill-color);\n",
              "    }\n",
              "    20% {\n",
              "      border-color: transparent;\n",
              "      border-left-color: var(--fill-color);\n",
              "      border-top-color: var(--fill-color);\n",
              "    }\n",
              "    30% {\n",
              "      border-color: transparent;\n",
              "      border-left-color: var(--fill-color);\n",
              "      border-top-color: var(--fill-color);\n",
              "      border-right-color: var(--fill-color);\n",
              "    }\n",
              "    40% {\n",
              "      border-color: transparent;\n",
              "      border-right-color: var(--fill-color);\n",
              "      border-top-color: var(--fill-color);\n",
              "    }\n",
              "    60% {\n",
              "      border-color: transparent;\n",
              "      border-right-color: var(--fill-color);\n",
              "    }\n",
              "    80% {\n",
              "      border-color: transparent;\n",
              "      border-right-color: var(--fill-color);\n",
              "      border-bottom-color: var(--fill-color);\n",
              "    }\n",
              "    90% {\n",
              "      border-color: transparent;\n",
              "      border-bottom-color: var(--fill-color);\n",
              "    }\n",
              "  }\n",
              "</style>\n",
              "\n",
              "  <script>\n",
              "    async function quickchart(key) {\n",
              "      const quickchartButtonEl =\n",
              "        document.querySelector('#' + key + ' button');\n",
              "      quickchartButtonEl.disabled = true;  // To prevent multiple clicks.\n",
              "      quickchartButtonEl.classList.add('colab-df-spinner');\n",
              "      try {\n",
              "        const charts = await google.colab.kernel.invokeFunction(\n",
              "            'suggestCharts', [key], {});\n",
              "      } catch (error) {\n",
              "        console.error('Error during call to suggestCharts:', error);\n",
              "      }\n",
              "      quickchartButtonEl.classList.remove('colab-df-spinner');\n",
              "      quickchartButtonEl.classList.add('colab-df-quickchart-complete');\n",
              "    }\n",
              "    (() => {\n",
              "      let quickchartButtonEl =\n",
              "        document.querySelector('#df-b29b63df-2a81-4d62-871a-17f5f2dd0047 button');\n",
              "      quickchartButtonEl.style.display =\n",
              "        google.colab.kernel.accessAllowed ? 'block' : 'none';\n",
              "    })();\n",
              "  </script>\n",
              "</div>\n",
              "    </div>\n",
              "  </div>\n"
            ],
            "text/plain": [
              "           count unique     top  freq\n",
              "Surname    10000   2932   Smith    32\n",
              "Geography  10000      3  France  5014\n",
              "Gender     10000      2    Male  5457"
            ]
          },
          "execution_count": 50,
          "metadata": {},
          "output_type": "execute_result"
        }
      ],
      "source": [
        "#Check statistical values for fields with other than numerical datatype\n",
        "df.describe(exclude=np.number).T"
      ]
    },
    {
      "cell_type": "markdown",
      "id": "53cb950f",
      "metadata": {
        "id": "53cb950f",
        "papermill": {
          "duration": 0.021685,
          "end_time": "2023-05-28T19:26:12.510502",
          "exception": false,
          "start_time": "2023-05-28T19:26:12.488817",
          "status": "completed"
        },
        "tags": []
      },
      "source": [
        "**Key Findings:**\n",
        "1. Flawless Data: The dataset is complete, with no missing values to impede our analysis.\n",
        "2. Streamlining for Success: To build an effective churn model, we'll exclude irrelevant fields like RowNumber, CustomerID, and Surname that hold no predictive value.\n",
        "3. Focus on \"Exited\": Our target variable, \"Exited,\" serves as the key indicator of customer churn, guiding our efforts to understand and predict attrition."
      ]
    },
    {
      "cell_type": "markdown",
      "id": "5cb417c9",
      "metadata": {
        "id": "5cb417c9",
        "papermill": {
          "duration": 0.021974,
          "end_time": "2023-05-28T19:26:12.554520",
          "exception": false,
          "start_time": "2023-05-28T19:26:12.532546",
          "status": "completed"
        },
        "tags": []
      },
      "source": [
        "# <span style=\"color:#FA8072\"> 4.  Exploratory Data Analysis </span> <a class=\"anchor\" id=\"eda\"></a>"
      ]
    },
    {
      "cell_type": "code",
      "execution_count": null,
      "id": "f187135e",
      "metadata": {
        "colab": {
          "base_uri": "https://localhost:8080/"
        },
        "execution": {
          "iopub.execute_input": "2023-05-28T19:26:12.600480Z",
          "iopub.status.busy": "2023-05-28T19:26:12.599769Z",
          "iopub.status.idle": "2023-05-28T19:26:12.608865Z",
          "shell.execute_reply": "2023-05-28T19:26:12.608068Z"
        },
        "id": "f187135e",
        "outputId": "33cdd06b-f5f6-4f69-ba2d-4d2b93f5f599",
        "papermill": {
          "duration": 0.034489,
          "end_time": "2023-05-28T19:26:12.610986",
          "exception": false,
          "start_time": "2023-05-28T19:26:12.576497",
          "status": "completed"
        },
        "tags": []
      },
      "outputs": [
        {
          "data": {
            "text/plain": [
              "Exited\n",
              "0    79.63\n",
              "1    20.37\n",
              "Name: proportion, dtype: float64"
            ]
          },
          "execution_count": 51,
          "metadata": {},
          "output_type": "execute_result"
        }
      ],
      "source": [
        "#Distribution\n",
        "df['Exited'].value_counts(normalize=True)*100"
      ]
    },
    {
      "cell_type": "code",
      "execution_count": null,
      "id": "5fc4aeb2",
      "metadata": {
        "colab": {
          "base_uri": "https://localhost:8080/",
          "height": 472
        },
        "execution": {
          "iopub.execute_input": "2023-05-28T19:26:12.657654Z",
          "iopub.status.busy": "2023-05-28T19:26:12.656723Z",
          "iopub.status.idle": "2023-05-28T19:26:12.957088Z",
          "shell.execute_reply": "2023-05-28T19:26:12.955897Z"
        },
        "id": "5fc4aeb2",
        "outputId": "4733dfea-e433-457f-a6b6-83ea0ae3911c",
        "papermill": {
          "duration": 0.326476,
          "end_time": "2023-05-28T19:26:12.959627",
          "exception": false,
          "start_time": "2023-05-28T19:26:12.633151",
          "status": "completed"
        },
        "tags": []
      },
      "outputs": [
        {
          "data": {
            "image/png": "[encoded data removed]",
            "text/plain": [
              "<Figure size 640x480 with 1 Axes>"
            ]
          },
          "metadata": {},
          "output_type": "display_data"
        }
      ],
      "source": [
        "#Customer Churn Distribution Plot\n",
        "palette='deep'\n",
        "sns.set_palette(palette)\n",
        "\n",
        "sns.countplot(data=df, x='Exited')\n",
        "\n",
        "plt.xlabel('Exited')\n",
        "plt.ylabel('Number of Customers')\n",
        "plt.title('Customer Churn Distribution')\n",
        "\n",
        "plt.show()"
      ]
    },
    {
      "cell_type": "markdown",
      "id": "f8f01d23",
      "metadata": {
        "id": "f8f01d23",
        "papermill": {
          "duration": 0.022353,
          "end_time": "2023-05-28T19:26:13.004531",
          "exception": false,
          "start_time": "2023-05-28T19:26:12.982178",
          "status": "completed"
        },
        "tags": []
      },
      "source": [
        "### Geography\n"
      ]
    },
    {
      "cell_type": "code",
      "execution_count": null,
      "id": "50ad955a",
      "metadata": {
        "colab": {
          "base_uri": "https://localhost:8080/"
        },
        "execution": {
          "iopub.execute_input": "2023-05-28T19:26:13.051733Z",
          "iopub.status.busy": "2023-05-28T19:26:13.050916Z",
          "iopub.status.idle": "2023-05-28T19:26:13.061759Z",
          "shell.execute_reply": "2023-05-28T19:26:13.060673Z"
        },
        "id": "50ad955a",
        "outputId": "55b65152-99d8-42de-a066-ba17a8012d33",
        "papermill": {
          "duration": 0.036732,
          "end_time": "2023-05-28T19:26:13.063922",
          "exception": false,
          "start_time": "2023-05-28T19:26:13.027190",
          "status": "completed"
        },
        "tags": []
      },
      "outputs": [
        {
          "data": {
            "text/plain": [
              "Geography\n",
              "France     50.14\n",
              "Germany    25.09\n",
              "Spain      24.77\n",
              "Name: proportion, dtype: float64"
            ]
          },
          "execution_count": 53,
          "metadata": {},
          "output_type": "execute_result"
        }
      ],
      "source": [
        "#Distribution\n",
        "df['Geography'].value_counts(normalize=True)*100"
      ]
    },
    {
      "cell_type": "code",
      "execution_count": null,
      "id": "80c715b0",
      "metadata": {
        "colab": {
          "base_uri": "https://localhost:8080/"
        },
        "execution": {
          "iopub.execute_input": "2023-05-28T19:26:13.111055Z",
          "iopub.status.busy": "2023-05-28T19:26:13.110633Z",
          "iopub.status.idle": "2023-05-28T19:26:13.126819Z",
          "shell.execute_reply": "2023-05-28T19:26:13.124913Z"
        },
        "id": "80c715b0",
        "outputId": "8e31293d-3ed4-48b7-e4fc-ab584fe06e67",
        "papermill": {
          "duration": 0.043203,
          "end_time": "2023-05-28T19:26:13.129766",
          "exception": false,
          "start_time": "2023-05-28T19:26:13.086563",
          "status": "completed"
        },
        "tags": []
      },
      "outputs": [
        {
          "data": {
            "text/plain": [
              "Geography  Exited\n",
              "France     0         83.845233\n",
              "           1         16.154767\n",
              "Germany    0         67.556796\n",
              "           1         32.443204\n",
              "Spain      0         83.326605\n",
              "           1         16.673395\n",
              "Name: proportion, dtype: float64"
            ]
          },
          "execution_count": 54,
          "metadata": {},
          "output_type": "execute_result"
        }
      ],
      "source": [
        "#Distribution of Customer Churn in different Geographies\n",
        "df.groupby('Geography')['Exited'].value_counts(normalize=True).mul(100)"
      ]
    },
    {
      "cell_type": "code",
      "execution_count": null,
      "id": "4a9f7cdf",
      "metadata": {
        "colab": {
          "base_uri": "https://localhost:8080/",
          "height": 522
        },
        "execution": {
          "iopub.execute_input": "2023-05-28T19:26:13.178300Z",
          "iopub.status.busy": "2023-05-28T19:26:13.177852Z",
          "iopub.status.idle": "2023-05-28T19:26:13.563940Z",
          "shell.execute_reply": "2023-05-28T19:26:13.562531Z"
        },
        "id": "4a9f7cdf",
        "outputId": "7648daf0-9f5f-4af5-b26c-5eca0d4640f3",
        "papermill": {
          "duration": 0.413684,
          "end_time": "2023-05-28T19:26:13.566907",
          "exception": false,
          "start_time": "2023-05-28T19:26:13.153223",
          "status": "completed"
        },
        "tags": []
      },
      "outputs": [
        {
          "data": {
            "image/png": "[encoded data removed]",
            "text/plain": [
              "<Figure size 640x480 with 1 Axes>"
            ]
          },
          "metadata": {},
          "output_type": "display_data"
        }
      ],
      "source": [
        "#Plot\n",
        "palette = \"deep\"\n",
        "sns.set_palette(palette)\n",
        "\n",
        "pd.crosstab(df['Geography'], df['Exited']).plot(kind='bar', stacked=True)\n",
        "\n",
        "plt.xlabel('Geography')\n",
        "plt.ylabel('Number of Customers')\n",
        "plt.title('Geography & Customer Churn Distribution')\n",
        "\n",
        "plt.show()"
      ]
    },
    {
      "cell_type": "markdown",
      "id": "9635b1d5",
      "metadata": {
        "id": "9635b1d5",
        "papermill": {
          "duration": 0.023168,
          "end_time": "2023-05-28T19:26:13.613869",
          "exception": false,
          "start_time": "2023-05-28T19:26:13.590701",
          "status": "completed"
        },
        "tags": []
      },
      "source": [
        "### Gender\n"
      ]
    },
    {
      "cell_type": "code",
      "execution_count": null,
      "id": "fcb25e49",
      "metadata": {
        "colab": {
          "base_uri": "https://localhost:8080/"
        },
        "execution": {
          "iopub.execute_input": "2023-05-28T19:26:13.663715Z",
          "iopub.status.busy": "2023-05-28T19:26:13.662897Z",
          "iopub.status.idle": "2023-05-28T19:26:13.673715Z",
          "shell.execute_reply": "2023-05-28T19:26:13.672675Z"
        },
        "id": "fcb25e49",
        "outputId": "eb638139-d92e-46a7-a0fc-19fa91ce2504",
        "papermill": {
          "duration": 0.038446,
          "end_time": "2023-05-28T19:26:13.675868",
          "exception": false,
          "start_time": "2023-05-28T19:26:13.637422",
          "status": "completed"
        },
        "tags": []
      },
      "outputs": [
        {
          "data": {
            "text/plain": [
              "Gender\n",
              "Male      54.57\n",
              "Female    45.43\n",
              "Name: proportion, dtype: float64"
            ]
          },
          "execution_count": 56,
          "metadata": {},
          "output_type": "execute_result"
        }
      ],
      "source": [
        "#Distribution\n",
        "df['Gender'].value_counts(normalize=True)*100"
      ]
    },
    {
      "cell_type": "code",
      "execution_count": null,
      "id": "1685c414",
      "metadata": {
        "colab": {
          "base_uri": "https://localhost:8080/"
        },
        "execution": {
          "iopub.execute_input": "2023-05-28T19:26:13.727078Z",
          "iopub.status.busy": "2023-05-28T19:26:13.726703Z",
          "iopub.status.idle": "2023-05-28T19:26:13.739757Z",
          "shell.execute_reply": "2023-05-28T19:26:13.738694Z"
        },
        "id": "1685c414",
        "outputId": "1ca02ba3-66ce-40e3-e51d-7fa9c14b5229",
        "papermill": {
          "duration": 0.041709,
          "end_time": "2023-05-28T19:26:13.742208",
          "exception": false,
          "start_time": "2023-05-28T19:26:13.700499",
          "status": "completed"
        },
        "tags": []
      },
      "outputs": [
        {
          "data": {
            "text/plain": [
              "Gender  Exited\n",
              "Female  0         74.928461\n",
              "        1         25.071539\n",
              "Male    0         83.544072\n",
              "        1         16.455928\n",
              "Name: proportion, dtype: float64"
            ]
          },
          "execution_count": 57,
          "metadata": {},
          "output_type": "execute_result"
        }
      ],
      "source": [
        "#Distribution of Customer Churn between genders\n",
        "df.groupby('Gender')['Exited'].value_counts(normalize=True).mul(100)"
      ]
    },
    {
      "cell_type": "code",
      "execution_count": null,
      "id": "0437fd88",
      "metadata": {
        "colab": {
          "base_uri": "https://localhost:8080/",
          "height": 508
        },
        "execution": {
          "iopub.execute_input": "2023-05-28T19:26:13.792700Z",
          "iopub.status.busy": "2023-05-28T19:26:13.792283Z",
          "iopub.status.idle": "2023-05-28T19:26:14.104848Z",
          "shell.execute_reply": "2023-05-28T19:26:14.103610Z"
        },
        "id": "0437fd88",
        "outputId": "dedb4c37-51bf-47aa-ba73-dd6495a2a7f4",
        "papermill": {
          "duration": 0.340365,
          "end_time": "2023-05-28T19:26:14.107341",
          "exception": false,
          "start_time": "2023-05-28T19:26:13.766976",
          "status": "completed"
        },
        "tags": []
      },
      "outputs": [
        {
          "data": {
            "image/png": "[encoded data removed]",
            "text/plain": [
              "<Figure size 640x480 with 1 Axes>"
            ]
          },
          "metadata": {},
          "output_type": "display_data"
        }
      ],
      "source": [
        "#Plot\n",
        "palette = \"deep\"\n",
        "sns.set_palette(palette)\n",
        "\n",
        "pd.crosstab(df['Gender'], df['Exited']).plot(kind='bar', stacked=True)\n",
        "\n",
        "plt.xlabel('Gender')\n",
        "plt.ylabel('Number of Customers')\n",
        "plt.title('Gender & Customer Churn Distribution')\n",
        "\n",
        "plt.show()"
      ]
    },
    {
      "cell_type": "markdown",
      "id": "780bb5fb",
      "metadata": {
        "id": "780bb5fb",
        "papermill": {
          "duration": 0.023836,
          "end_time": "2023-05-28T19:26:14.155370",
          "exception": false,
          "start_time": "2023-05-28T19:26:14.131534",
          "status": "completed"
        },
        "tags": []
      },
      "source": [
        "### Tenure\n"
      ]
    },
    {
      "cell_type": "code",
      "execution_count": null,
      "id": "0b206f08",
      "metadata": {
        "colab": {
          "base_uri": "https://localhost:8080/"
        },
        "execution": {
          "iopub.execute_input": "2023-05-28T19:26:14.205438Z",
          "iopub.status.busy": "2023-05-28T19:26:14.205004Z",
          "iopub.status.idle": "2023-05-28T19:26:14.217977Z",
          "shell.execute_reply": "2023-05-28T19:26:14.216691Z"
        },
        "id": "0b206f08",
        "outputId": "b4d6efda-9055-4229-f70b-bc63a63429b8",
        "papermill": {
          "duration": 0.041079,
          "end_time": "2023-05-28T19:26:14.220460",
          "exception": false,
          "start_time": "2023-05-28T19:26:14.179381",
          "status": "completed"
        },
        "tags": []
      },
      "outputs": [
        {
          "name": "stdout",
          "output_type": "stream",
          "text": [
            "count    10000.000000\n",
            "mean         5.012800\n",
            "std          2.892174\n",
            "min          0.000000\n",
            "25%          3.000000\n",
            "50%          5.000000\n",
            "75%          7.000000\n",
            "max         10.000000\n",
            "Name: Tenure, dtype: float64\n",
            "\n",
            "---------------------\n",
            "\n",
            "Tenure\n",
            "0      4.13\n",
            "1     10.35\n",
            "2     10.48\n",
            "3     10.09\n",
            "4      9.89\n",
            "5     10.12\n",
            "6      9.67\n",
            "7     10.28\n",
            "8     10.25\n",
            "9      9.84\n",
            "10     4.90\n",
            "Name: proportion, dtype: float64\n"
          ]
        }
      ],
      "source": [
        "#Distribution of Tenure\n",
        "print(df['Tenure'].describe())\n",
        "print(\"\\n---------------------\\n\")\n",
        "print(df['Tenure'].value_counts(normalize=True).mul(100).sort_index())"
      ]
    },
    {
      "cell_type": "code",
      "execution_count": null,
      "id": "077862f8",
      "metadata": {
        "colab": {
          "base_uri": "https://localhost:8080/",
          "height": 475
        },
        "execution": {
          "iopub.execute_input": "2023-05-28T19:26:14.272488Z",
          "iopub.status.busy": "2023-05-28T19:26:14.272033Z",
          "iopub.status.idle": "2023-05-28T19:26:14.658573Z",
          "shell.execute_reply": "2023-05-28T19:26:14.657339Z"
        },
        "id": "077862f8",
        "outputId": "6f1b3da8-d486-4772-c51c-78bfe5586492",
        "papermill": {
          "duration": 0.41649,
          "end_time": "2023-05-28T19:26:14.661352",
          "exception": false,
          "start_time": "2023-05-28T19:26:14.244862",
          "status": "completed"
        },
        "tags": []
      },
      "outputs": [
        {
          "data": {
            "image/png": "[encoded data removed]",
            "text/plain": [
              "<Figure size 640x480 with 1 Axes>"
            ]
          },
          "metadata": {},
          "output_type": "display_data"
        }
      ],
      "source": [
        "#Plot\n",
        "palette = \"deep\"\n",
        "sns.set_palette(palette)\n",
        "\n",
        "pd.crosstab(df['Tenure'], df['Exited']).plot(kind='bar', stacked=True)\n",
        "\n",
        "plt.xlabel('Tenure')\n",
        "plt.ylabel('Number of Customers')\n",
        "plt.title('Tenure & Customer Churn Distribution')\n",
        "\n",
        "plt.show()"
      ]
    },
    {
      "cell_type": "markdown",
      "id": "ad7ddf08",
      "metadata": {
        "id": "ad7ddf08",
        "papermill": {
          "duration": 0.025092,
          "end_time": "2023-05-28T19:26:14.712208",
          "exception": false,
          "start_time": "2023-05-28T19:26:14.687116",
          "status": "completed"
        },
        "tags": []
      },
      "source": [
        "### Number of Products\n"
      ]
    },
    {
      "cell_type": "code",
      "execution_count": null,
      "id": "8af8e631",
      "metadata": {
        "colab": {
          "base_uri": "https://localhost:8080/"
        },
        "execution": {
          "iopub.execute_input": "2023-05-28T19:26:14.768946Z",
          "iopub.status.busy": "2023-05-28T19:26:14.768526Z",
          "iopub.status.idle": "2023-05-28T19:26:14.785142Z",
          "shell.execute_reply": "2023-05-28T19:26:14.783491Z"
        },
        "id": "8af8e631",
        "outputId": "8e2b85aa-f772-43f4-f555-3fe5e716eb49",
        "papermill": {
          "duration": 0.046762,
          "end_time": "2023-05-28T19:26:14.787647",
          "exception": false,
          "start_time": "2023-05-28T19:26:14.740885",
          "status": "completed"
        },
        "tags": []
      },
      "outputs": [
        {
          "name": "stdout",
          "output_type": "stream",
          "text": [
            "count    10000.000000\n",
            "mean         1.530200\n",
            "std          0.581654\n",
            "min          1.000000\n",
            "25%          1.000000\n",
            "50%          1.000000\n",
            "75%          2.000000\n",
            "max          4.000000\n",
            "Name: NumOfProducts, dtype: float64\n",
            "\n",
            "---------------------\n",
            "\n",
            "NumOfProducts\n",
            "1    5084\n",
            "2    4590\n",
            "3     266\n",
            "4      60\n",
            "Name: count, dtype: int64\n",
            "\n",
            "---------------------\n",
            "\n",
            "NumOfProducts  Exited\n",
            "1              0          72.29\n",
            "               1          27.71\n",
            "2              0          92.42\n",
            "               1           7.58\n",
            "3              1          82.71\n",
            "               0          17.29\n",
            "4              1         100.00\n",
            "Name: proportion, dtype: float64\n"
          ]
        }
      ],
      "source": [
        "#Distribution of NumOfProducts\n",
        "print(df['NumOfProducts'].describe())\n",
        "print(\"\\n---------------------\\n\")\n",
        "print(df['NumOfProducts'].value_counts().sort_index())\n",
        "print(\"\\n---------------------\\n\")\n",
        "print(round(df.groupby('NumOfProducts')['Exited'].value_counts(normalize=True).mul(100),2))"
      ]
    },
    {
      "cell_type": "code",
      "execution_count": null,
      "id": "64d8149b",
      "metadata": {
        "colab": {
          "base_uri": "https://localhost:8080/",
          "height": 467
        },
        "execution": {
          "iopub.execute_input": "2023-05-28T19:26:14.841210Z",
          "iopub.status.busy": "2023-05-28T19:26:14.839906Z",
          "iopub.status.idle": "2023-05-28T19:26:15.174178Z",
          "shell.execute_reply": "2023-05-28T19:26:15.172809Z"
        },
        "id": "64d8149b",
        "outputId": "5079d7c6-a741-4d70-fe4b-0f63e4fe4594",
        "papermill": {
          "duration": 0.363665,
          "end_time": "2023-05-28T19:26:15.176893",
          "exception": false,
          "start_time": "2023-05-28T19:26:14.813228",
          "status": "completed"
        },
        "tags": []
      },
      "outputs": [
        {
          "data": {
            "image/png": "[encoded data removed]",
            "text/plain": [
              "<Figure size 640x480 with 1 Axes>"
            ]
          },
          "metadata": {},
          "output_type": "display_data"
        }
      ],
      "source": [
        "#Plot\n",
        "palette = \"deep\"\n",
        "sns.set_palette(palette)\n",
        "\n",
        "pd.crosstab(df['NumOfProducts'], df['Exited']).plot(kind='bar', stacked=True)\n",
        "\n",
        "plt.xlabel('Number Of Products')\n",
        "plt.ylabel('Number of Customers')\n",
        "plt.title('Number Of Products & Customer Churn Distribution')\n",
        "\n",
        "plt.show()"
      ]
    },
    {
      "cell_type": "markdown",
      "id": "dae1f2e5",
      "metadata": {
        "id": "dae1f2e5",
        "papermill": {
          "duration": 0.028032,
          "end_time": "2023-05-28T19:26:15.231844",
          "exception": false,
          "start_time": "2023-05-28T19:26:15.203812",
          "status": "completed"
        },
        "tags": []
      },
      "source": [
        "### Has Credit Card\n"
      ]
    },
    {
      "cell_type": "code",
      "execution_count": null,
      "id": "aa0acdfc",
      "metadata": {
        "colab": {
          "base_uri": "https://localhost:8080/"
        },
        "execution": {
          "iopub.execute_input": "2023-05-28T19:26:15.285816Z",
          "iopub.status.busy": "2023-05-28T19:26:15.284924Z",
          "iopub.status.idle": "2023-05-28T19:26:15.305957Z",
          "shell.execute_reply": "2023-05-28T19:26:15.304433Z"
        },
        "id": "aa0acdfc",
        "outputId": "8d4bac80-3d55-41b8-8cdd-92841a22153f",
        "papermill": {
          "duration": 0.051078,
          "end_time": "2023-05-28T19:26:15.308712",
          "exception": false,
          "start_time": "2023-05-28T19:26:15.257634",
          "status": "completed"
        },
        "tags": []
      },
      "outputs": [
        {
          "name": "stdout",
          "output_type": "stream",
          "text": [
            "count    10000.00000\n",
            "mean         0.70550\n",
            "std          0.45584\n",
            "min          0.00000\n",
            "25%          0.00000\n",
            "50%          1.00000\n",
            "75%          1.00000\n",
            "max          1.00000\n",
            "Name: HasCrCard, dtype: float64\n",
            "\n",
            "---------------------\n",
            "\n",
            "HasCrCard\n",
            "0    2945\n",
            "1    7055\n",
            "Name: count, dtype: int64\n",
            "\n",
            "---------------------\n",
            "\n",
            "HasCrCard  Exited\n",
            "0          0         79.19\n",
            "           1         20.81\n",
            "1          0         79.82\n",
            "           1         20.18\n",
            "Name: proportion, dtype: float64\n"
          ]
        }
      ],
      "source": [
        "#Distribution of HasCrCard\n",
        "print(df['HasCrCard'].describe())\n",
        "print(\"\\n---------------------\\n\")\n",
        "print(df['HasCrCard'].value_counts().sort_index())\n",
        "print(\"\\n---------------------\\n\")\n",
        "print(round(df.groupby('HasCrCard')['Exited'].value_counts(normalize=True).mul(100),2))"
      ]
    },
    {
      "cell_type": "code",
      "execution_count": null,
      "id": "9cc3c1ae",
      "metadata": {
        "colab": {
          "base_uri": "https://localhost:8080/",
          "height": 467
        },
        "execution": {
          "iopub.execute_input": "2023-05-28T19:26:15.366964Z",
          "iopub.status.busy": "2023-05-28T19:26:15.366464Z",
          "iopub.status.idle": "2023-05-28T19:26:15.696811Z",
          "shell.execute_reply": "2023-05-28T19:26:15.695662Z"
        },
        "id": "9cc3c1ae",
        "outputId": "4291d2c2-aec9-4e74-a831-4c725b8a78ca",
        "papermill": {
          "duration": 0.363153,
          "end_time": "2023-05-28T19:26:15.699700",
          "exception": false,
          "start_time": "2023-05-28T19:26:15.336547",
          "status": "completed"
        },
        "tags": []
      },
      "outputs": [
        {
          "data": {
            "image/png": "[encoded data removed]",
            "text/plain": [
              "<Figure size 640x480 with 1 Axes>"
            ]
          },
          "metadata": {},
          "output_type": "display_data"
        }
      ],
      "source": [
        "#Plot\n",
        "palette = \"deep\"\n",
        "sns.set_palette(palette)\n",
        "\n",
        "pd.crosstab(df['HasCrCard'], df['Exited']).plot(kind='bar', stacked=True)\n",
        "\n",
        "plt.xlabel('Has Credit Card')\n",
        "plt.ylabel('Number of Customers')\n",
        "plt.title('Has Credit Card & Customer Churn Distribution')\n",
        "\n",
        "plt.show()"
      ]
    },
    {
      "cell_type": "markdown",
      "id": "38a1e6b8",
      "metadata": {
        "id": "38a1e6b8",
        "papermill": {
          "duration": 0.02661,
          "end_time": "2023-05-28T19:26:15.756508",
          "exception": false,
          "start_time": "2023-05-28T19:26:15.729898",
          "status": "completed"
        },
        "tags": []
      },
      "source": [
        "### Is Active Member\n"
      ]
    },
    {
      "cell_type": "code",
      "execution_count": null,
      "id": "8e8e42dd",
      "metadata": {
        "colab": {
          "base_uri": "https://localhost:8080/"
        },
        "execution": {
          "iopub.execute_input": "2023-05-28T19:26:15.813256Z",
          "iopub.status.busy": "2023-05-28T19:26:15.812024Z",
          "iopub.status.idle": "2023-05-28T19:26:15.831709Z",
          "shell.execute_reply": "2023-05-28T19:26:15.830191Z"
        },
        "id": "8e8e42dd",
        "outputId": "9d4b15fa-70d6-4122-acbb-f77f475b596c",
        "papermill": {
          "duration": 0.051223,
          "end_time": "2023-05-28T19:26:15.834487",
          "exception": false,
          "start_time": "2023-05-28T19:26:15.783264",
          "status": "completed"
        },
        "tags": []
      },
      "outputs": [
        {
          "name": "stdout",
          "output_type": "stream",
          "text": [
            "count    10000.000000\n",
            "mean         0.515100\n",
            "std          0.499797\n",
            "min          0.000000\n",
            "25%          0.000000\n",
            "50%          1.000000\n",
            "75%          1.000000\n",
            "max          1.000000\n",
            "Name: IsActiveMember, dtype: float64\n",
            "\n",
            "---------------------\n",
            "\n",
            "IsActiveMember\n",
            "0    4849\n",
            "1    5151\n",
            "Name: count, dtype: int64\n",
            "\n",
            "---------------------\n",
            "\n",
            "IsActiveMember  Exited\n",
            "0               0         73.15\n",
            "                1         26.85\n",
            "1               0         85.73\n",
            "                1         14.27\n",
            "Name: proportion, dtype: float64\n"
          ]
        }
      ],
      "source": [
        "#Distribution of IsActiveMember\n",
        "print(df['IsActiveMember'].describe())\n",
        "print(\"\\n---------------------\\n\")\n",
        "print(df['IsActiveMember'].value_counts().sort_index())\n",
        "print(\"\\n---------------------\\n\")\n",
        "print(round(df.groupby('IsActiveMember')['Exited'].value_counts(normalize=True).mul(100),2))"
      ]
    },
    {
      "cell_type": "code",
      "execution_count": null,
      "id": "5aef16b1",
      "metadata": {
        "colab": {
          "base_uri": "https://localhost:8080/",
          "height": 467
        },
        "execution": {
          "iopub.execute_input": "2023-05-28T19:26:15.888673Z",
          "iopub.status.busy": "2023-05-28T19:26:15.888143Z",
          "iopub.status.idle": "2023-05-28T19:26:16.196661Z",
          "shell.execute_reply": "2023-05-28T19:26:16.195541Z"
        },
        "id": "5aef16b1",
        "outputId": "0711fd51-3d76-45b0-b603-b4a1659690c9",
        "papermill": {
          "duration": 0.338424,
          "end_time": "2023-05-28T19:26:16.199094",
          "exception": false,
          "start_time": "2023-05-28T19:26:15.860670",
          "status": "completed"
        },
        "tags": []
      },
      "outputs": [
        {
          "data": {
            "image/png": "[encoded data removed]",
            "text/plain": [
              "<Figure size 640x480 with 1 Axes>"
            ]
          },
          "metadata": {},
          "output_type": "display_data"
        }
      ],
      "source": [
        "#Plot\n",
        "palette = \"deep\"\n",
        "sns.set_palette(palette)\n",
        "\n",
        "pd.crosstab(df['IsActiveMember'], df['Exited']).plot(kind='bar', stacked=True)\n",
        "\n",
        "plt.xlabel('Is Active Member')\n",
        "plt.ylabel('Number of Customers')\n",
        "plt.title('Is Active Member & Customer Churn Distribution')\n",
        "\n",
        "plt.show()"
      ]
    },
    {
      "cell_type": "markdown",
      "id": "065d7487",
      "metadata": {
        "id": "065d7487",
        "papermill": {
          "duration": 0.025989,
          "end_time": "2023-05-28T19:26:16.251386",
          "exception": false,
          "start_time": "2023-05-28T19:26:16.225397",
          "status": "completed"
        },
        "tags": []
      },
      "source": [
        "### Credit Score"
      ]
    },
    {
      "cell_type": "code",
      "execution_count": null,
      "id": "4d7c19a6",
      "metadata": {
        "colab": {
          "base_uri": "https://localhost:8080/"
        },
        "execution": {
          "iopub.execute_input": "2023-05-28T19:26:16.306132Z",
          "iopub.status.busy": "2023-05-28T19:26:16.305491Z",
          "iopub.status.idle": "2023-05-28T19:26:16.317580Z",
          "shell.execute_reply": "2023-05-28T19:26:16.316069Z"
        },
        "id": "4d7c19a6",
        "outputId": "229ac4f1-704c-45f9-8358-f63e3e1bfa4f",
        "papermill": {
          "duration": 0.042513,
          "end_time": "2023-05-28T19:26:16.320144",
          "exception": false,
          "start_time": "2023-05-28T19:26:16.277631",
          "status": "completed"
        },
        "tags": []
      },
      "outputs": [
        {
          "name": "stdout",
          "output_type": "stream",
          "text": [
            "count    10000.000000\n",
            "mean       650.528800\n",
            "std         96.653299\n",
            "min        350.000000\n",
            "25%        584.000000\n",
            "50%        652.000000\n",
            "75%        718.000000\n",
            "max        850.000000\n",
            "Name: CreditScore, dtype: float64\n",
            "\n",
            "---------------------\n",
            "\n",
            "CreditScore\n",
            "850    233\n",
            "678     63\n",
            "655     54\n",
            "705     53\n",
            "667     53\n",
            "      ... \n",
            "404      1\n",
            "351      1\n",
            "365      1\n",
            "417      1\n",
            "419      1\n",
            "Name: count, Length: 460, dtype: int64\n"
          ]
        }
      ],
      "source": [
        "#Distribution of Credit Score\n",
        "print(df['CreditScore'].describe())\n",
        "print(\"\\n---------------------\\n\")\n",
        "print(df['CreditScore'].value_counts())"
      ]
    },
    {
      "cell_type": "code",
      "execution_count": null,
      "id": "684fcb25",
      "metadata": {
        "colab": {
          "base_uri": "https://localhost:8080/",
          "height": 529
        },
        "execution": {
          "iopub.execute_input": "2023-05-28T19:26:16.375404Z",
          "iopub.status.busy": "2023-05-28T19:26:16.374357Z",
          "iopub.status.idle": "2023-05-28T19:26:17.466742Z",
          "shell.execute_reply": "2023-05-28T19:26:17.465781Z"
        },
        "id": "684fcb25",
        "outputId": "ff1bcfc0-45ae-4efe-a99b-f400486149d8",
        "papermill": {
          "duration": 1.122511,
          "end_time": "2023-05-28T19:26:17.469024",
          "exception": false,
          "start_time": "2023-05-28T19:26:16.346513",
          "status": "completed"
        },
        "tags": []
      },
      "outputs": [
        {
          "data": {
            "image/png": "[encoded data removed]",
            "text/plain": [
              "<Figure size 558.875x500 with 1 Axes>"
            ]
          },
          "metadata": {},
          "output_type": "display_data"
        }
      ],
      "source": [
        "#Plot\n",
        "palette = \"deep\"\n",
        "sns.set_palette(palette)\n",
        "\n",
        "sns.displot(data=df, x='CreditScore',hue='Exited', kde=True, bins=40)\n",
        "\n",
        "plt.xlabel('Credit Score')\n",
        "plt.ylabel('Number of Customers')\n",
        "plt.title('Credit Score & Customer Churn Distribution')\n",
        "\n",
        "plt.show()"
      ]
    },
    {
      "cell_type": "markdown",
      "id": "371330f7",
      "metadata": {
        "id": "371330f7",
        "papermill": {
          "duration": 0.027034,
          "end_time": "2023-05-28T19:26:17.523192",
          "exception": false,
          "start_time": "2023-05-28T19:26:17.496158",
          "status": "completed"
        },
        "tags": []
      },
      "source": [
        "### Age\n"
      ]
    },
    {
      "cell_type": "code",
      "execution_count": null,
      "id": "7f9672b9",
      "metadata": {
        "colab": {
          "base_uri": "https://localhost:8080/"
        },
        "execution": {
          "iopub.execute_input": "2023-05-28T19:26:17.581210Z",
          "iopub.status.busy": "2023-05-28T19:26:17.580522Z",
          "iopub.status.idle": "2023-05-28T19:26:17.592528Z",
          "shell.execute_reply": "2023-05-28T19:26:17.591265Z"
        },
        "id": "7f9672b9",
        "outputId": "2c0696b7-acc0-4bf6-f2d4-63fb8ba0f7f9",
        "papermill": {
          "duration": 0.044141,
          "end_time": "2023-05-28T19:26:17.595087",
          "exception": false,
          "start_time": "2023-05-28T19:26:17.550946",
          "status": "completed"
        },
        "tags": []
      },
      "outputs": [
        {
          "name": "stdout",
          "output_type": "stream",
          "text": [
            "count    10000.000000\n",
            "mean        38.921800\n",
            "std         10.487806\n",
            "min         18.000000\n",
            "25%         32.000000\n",
            "50%         37.000000\n",
            "75%         44.000000\n",
            "max         92.000000\n",
            "Name: Age, dtype: float64\n",
            "\n",
            "---------------------\n",
            "\n",
            "Age\n",
            "37    478\n",
            "38    477\n",
            "35    474\n",
            "36    456\n",
            "34    447\n",
            "     ... \n",
            "92      2\n",
            "82      1\n",
            "88      1\n",
            "85      1\n",
            "83      1\n",
            "Name: count, Length: 70, dtype: int64\n"
          ]
        }
      ],
      "source": [
        "#Distribution of Age\n",
        "print(df['Age'].describe())\n",
        "print(\"\\n---------------------\\n\")\n",
        "print(df['Age'].value_counts())"
      ]
    },
    {
      "cell_type": "code",
      "execution_count": null,
      "id": "731b8d4d",
      "metadata": {
        "colab": {
          "base_uri": "https://localhost:8080/",
          "height": 529
        },
        "execution": {
          "iopub.execute_input": "2023-05-28T19:26:17.654977Z",
          "iopub.status.busy": "2023-05-28T19:26:17.653762Z",
          "iopub.status.idle": "2023-05-28T19:26:18.270903Z",
          "shell.execute_reply": "2023-05-28T19:26:18.269710Z"
        },
        "id": "731b8d4d",
        "outputId": "ccd076c9-a4c4-474d-d45b-6df0de5b230e",
        "papermill": {
          "duration": 0.650573,
          "end_time": "2023-05-28T19:26:18.273859",
          "exception": false,
          "start_time": "2023-05-28T19:26:17.623286",
          "status": "completed"
        },
        "tags": []
      },
      "outputs": [
        {
          "data": {
            "image/png": "[encoded data removed]",
            "text/plain": [
              "<Figure size 500x500 with 1 Axes>"
            ]
          },
          "metadata": {},
          "output_type": "display_data"
        }
      ],
      "source": [
        "#Plot\n",
        "palette = \"deep\"\n",
        "sns.set_palette(palette)\n",
        "\n",
        "sns.displot(data=df, x='Age', kde=True, bins=37)\n",
        "\n",
        "plt.xlabel('Age')\n",
        "plt.ylabel('Number of Customers')\n",
        "plt.title('Age Distribution')\n",
        "\n",
        "plt.show()"
      ]
    },
    {
      "cell_type": "code",
      "execution_count": null,
      "id": "c9d8711e",
      "metadata": {
        "colab": {
          "base_uri": "https://localhost:8080/",
          "height": 529
        },
        "execution": {
          "iopub.execute_input": "2023-05-28T19:26:18.333409Z",
          "iopub.status.busy": "2023-05-28T19:26:18.332965Z",
          "iopub.status.idle": "2023-05-28T19:26:19.280987Z",
          "shell.execute_reply": "2023-05-28T19:26:19.279803Z"
        },
        "id": "c9d8711e",
        "outputId": "3e1dd3ac-459e-44e0-8ad8-8d57f67c7bf0",
        "papermill": {
          "duration": 0.980443,
          "end_time": "2023-05-28T19:26:19.283509",
          "exception": false,
          "start_time": "2023-05-28T19:26:18.303066",
          "status": "completed"
        },
        "tags": []
      },
      "outputs": [
        {
          "data": {
            "image/png": "[encoded data removed]",
            "text/plain": [
              "<Figure size 558.875x500 with 1 Axes>"
            ]
          },
          "metadata": {},
          "output_type": "display_data"
        }
      ],
      "source": [
        "#Plot\n",
        "palette = \"deep\"\n",
        "sns.set_palette(palette)\n",
        "\n",
        "sns.displot(data=df, x='Age', hue='Exited',kde=True, bins=37)\n",
        "\n",
        "plt.xlabel('Age')\n",
        "plt.ylabel('Number of Customers')\n",
        "plt.title('Age & Customer Churn Distribution')\n",
        "\n",
        "plt.show()"
      ]
    },
    {
      "cell_type": "markdown",
      "id": "51ea573c",
      "metadata": {
        "id": "51ea573c",
        "papermill": {
          "duration": 0.033196,
          "end_time": "2023-05-28T19:26:19.347382",
          "exception": false,
          "start_time": "2023-05-28T19:26:19.314186",
          "status": "completed"
        },
        "tags": []
      },
      "source": [
        "### Balance\n"
      ]
    },
    {
      "cell_type": "code",
      "execution_count": null,
      "id": "dd6365b3",
      "metadata": {
        "colab": {
          "base_uri": "https://localhost:8080/"
        },
        "execution": {
          "iopub.execute_input": "2023-05-28T19:26:19.407215Z",
          "iopub.status.busy": "2023-05-28T19:26:19.406517Z",
          "iopub.status.idle": "2023-05-28T19:26:19.420381Z",
          "shell.execute_reply": "2023-05-28T19:26:19.419015Z"
        },
        "id": "dd6365b3",
        "outputId": "b915ee8b-8bcd-43ba-8de9-5c0f8fe9f0ab",
        "papermill": {
          "duration": 0.046586,
          "end_time": "2023-05-28T19:26:19.422717",
          "exception": false,
          "start_time": "2023-05-28T19:26:19.376131",
          "status": "completed"
        },
        "tags": []
      },
      "outputs": [
        {
          "name": "stdout",
          "output_type": "stream",
          "text": [
            "count     10000.000000\n",
            "mean      76485.889288\n",
            "std       62397.405202\n",
            "min           0.000000\n",
            "25%           0.000000\n",
            "50%       97198.540000\n",
            "75%      127644.240000\n",
            "max      250898.090000\n",
            "Name: Balance, dtype: float64\n",
            "\n",
            "---------------------\n",
            "\n",
            "Balance\n",
            "0.00         3617\n",
            "3768.69         1\n",
            "12459.19        1\n",
            "14262.80        1\n",
            "16893.59        1\n",
            "             ... \n",
            "216109.88       1\n",
            "221532.80       1\n",
            "222267.63       1\n",
            "238387.56       1\n",
            "250898.09       1\n",
            "Name: count, Length: 6382, dtype: int64\n"
          ]
        }
      ],
      "source": [
        "#Distribution of Balance\n",
        "print(df['Balance'].describe())\n",
        "print(\"\\n---------------------\\n\")\n",
        "print(df['Balance'].value_counts().sort_index())"
      ]
    },
    {
      "cell_type": "code",
      "execution_count": null,
      "id": "de3f7652",
      "metadata": {
        "colab": {
          "base_uri": "https://localhost:8080/",
          "height": 529
        },
        "execution": {
          "iopub.execute_input": "2023-05-28T19:26:19.483477Z",
          "iopub.status.busy": "2023-05-28T19:26:19.482193Z",
          "iopub.status.idle": "2023-05-28T19:26:20.077255Z",
          "shell.execute_reply": "2023-05-28T19:26:20.076152Z"
        },
        "id": "de3f7652",
        "outputId": "e5c62f5a-a2ae-4937-e7ce-8828c5a7e012",
        "papermill": {
          "duration": 0.627864,
          "end_time": "2023-05-28T19:26:20.079576",
          "exception": false,
          "start_time": "2023-05-28T19:26:19.451712",
          "status": "completed"
        },
        "tags": []
      },
      "outputs": [
        {
          "data": {
            "image/png": "[encoded data removed]",
            "text/plain": [
              "<Figure size 500x500 with 1 Axes>"
            ]
          },
          "metadata": {},
          "output_type": "display_data"
        }
      ],
      "source": [
        "#Plot\n",
        "palette = \"deep\"\n",
        "sns.set_palette(palette)\n",
        "\n",
        "sns.displot(data=df, x='Balance', kde=True, bins=30)\n",
        "\n",
        "plt.xlabel('Balance')\n",
        "plt.ylabel('Number of Customers')\n",
        "plt.title('Balance Distribution')\n",
        "\n",
        "plt.show()"
      ]
    },
    {
      "cell_type": "code",
      "execution_count": null,
      "id": "5f8bc517",
      "metadata": {
        "colab": {
          "base_uri": "https://localhost:8080/",
          "height": 529
        },
        "execution": {
          "iopub.execute_input": "2023-05-28T19:26:20.140656Z",
          "iopub.status.busy": "2023-05-28T19:26:20.140254Z",
          "iopub.status.idle": "2023-05-28T19:26:21.026992Z",
          "shell.execute_reply": "2023-05-28T19:26:21.025707Z"
        },
        "id": "5f8bc517",
        "outputId": "c7646e8c-2f7f-4afb-b811-ea55120147b8",
        "papermill": {
          "duration": 0.920761,
          "end_time": "2023-05-28T19:26:21.029758",
          "exception": false,
          "start_time": "2023-05-28T19:26:20.108997",
          "status": "completed"
        },
        "tags": []
      },
      "outputs": [
        {
          "data": {
            "image/png": "[encoded data removed]",
            "text/plain": [
              "<Figure size 558.875x500 with 1 Axes>"
            ]
          },
          "metadata": {},
          "output_type": "display_data"
        }
      ],
      "source": [
        "#Plot\n",
        "palette = \"deep\"\n",
        "sns.set_palette(palette)\n",
        "\n",
        "sns.displot(data=df, x='Balance', hue='Exited',kde=True, bins=30)\n",
        "\n",
        "plt.xlabel('Balance')\n",
        "plt.ylabel('Number of Customers')\n",
        "plt.title('Balance & Customer Churn Distribution')\n",
        "\n",
        "plt.show()"
      ]
    },
    {
      "cell_type": "markdown",
      "id": "4172837a",
      "metadata": {
        "id": "4172837a",
        "papermill": {
          "duration": 0.03034,
          "end_time": "2023-05-28T19:26:21.090214",
          "exception": false,
          "start_time": "2023-05-28T19:26:21.059874",
          "status": "completed"
        },
        "tags": []
      },
      "source": [
        "### EstimatedSalary\n"
      ]
    },
    {
      "cell_type": "code",
      "execution_count": null,
      "id": "9b34012a",
      "metadata": {
        "colab": {
          "base_uri": "https://localhost:8080/"
        },
        "execution": {
          "iopub.execute_input": "2023-05-28T19:26:21.152560Z",
          "iopub.status.busy": "2023-05-28T19:26:21.152134Z",
          "iopub.status.idle": "2023-05-28T19:26:21.168253Z",
          "shell.execute_reply": "2023-05-28T19:26:21.167067Z"
        },
        "id": "9b34012a",
        "outputId": "f6185f4a-7a43-4962-fda7-b99ba2d83ae0",
        "papermill": {
          "duration": 0.050339,
          "end_time": "2023-05-28T19:26:21.170416",
          "exception": false,
          "start_time": "2023-05-28T19:26:21.120077",
          "status": "completed"
        },
        "tags": []
      },
      "outputs": [
        {
          "name": "stdout",
          "output_type": "stream",
          "text": [
            "count     10000.000000\n",
            "mean     100090.239881\n",
            "std       57510.492818\n",
            "min          11.580000\n",
            "25%       51002.110000\n",
            "50%      100193.915000\n",
            "75%      149388.247500\n",
            "max      199992.480000\n",
            "Name: EstimatedSalary, dtype: float64\n",
            "\n",
            "---------------------\n",
            "\n",
            "EstimatedSalary\n",
            "11.58        1\n",
            "90.07        1\n",
            "91.75        1\n",
            "96.27        1\n",
            "106.67       1\n",
            "            ..\n",
            "199909.32    1\n",
            "199929.17    1\n",
            "199953.33    1\n",
            "199970.74    1\n",
            "199992.48    1\n",
            "Name: count, Length: 9999, dtype: int64\n"
          ]
        }
      ],
      "source": [
        "#Distribution of EstimatedSalary\n",
        "print(df['EstimatedSalary'].describe())\n",
        "print(\"\\n---------------------\\n\")\n",
        "print(df['EstimatedSalary'].value_counts().sort_index())"
      ]
    },
    {
      "cell_type": "code",
      "execution_count": null,
      "id": "9222e570",
      "metadata": {
        "colab": {
          "base_uri": "https://localhost:8080/",
          "height": 562
        },
        "execution": {
          "iopub.execute_input": "2023-05-28T19:26:21.233186Z",
          "iopub.status.busy": "2023-05-28T19:26:21.232012Z",
          "iopub.status.idle": "2023-05-28T19:26:21.860141Z",
          "shell.execute_reply": "2023-05-28T19:26:21.858742Z"
        },
        "id": "9222e570",
        "outputId": "dc6647f1-2644-4ea7-9cbd-9d01657c8a42",
        "papermill": {
          "duration": 0.662158,
          "end_time": "2023-05-28T19:26:21.862503",
          "exception": false,
          "start_time": "2023-05-28T19:26:21.200345",
          "status": "completed"
        },
        "tags": []
      },
      "outputs": [
        {
          "data": {
            "image/png": "[encoded data removed]",
            "text/plain": [
              "<Figure size 500x500 with 1 Axes>"
            ]
          },
          "metadata": {},
          "output_type": "display_data"
        }
      ],
      "source": [
        "#Plot\n",
        "palette = \"deep\"\n",
        "sns.set_palette(palette)\n",
        "\n",
        "sns.displot(data=df, x='EstimatedSalary', kde=True, bins=40)\n",
        "\n",
        "plt.xlabel('EstimatedSalary')\n",
        "plt.ylabel('Number of Customers')\n",
        "plt.title('Estimated Salary Distribution')\n",
        "plt.xticks(rotation=45)\n",
        "\n",
        "plt.show()"
      ]
    },
    {
      "cell_type": "code",
      "execution_count": null,
      "id": "4b642c2c",
      "metadata": {
        "colab": {
          "base_uri": "https://localhost:8080/",
          "height": 562
        },
        "execution": {
          "iopub.execute_input": "2023-05-28T19:26:21.926518Z",
          "iopub.status.busy": "2023-05-28T19:26:21.926075Z",
          "iopub.status.idle": "2023-05-28T19:26:22.880560Z",
          "shell.execute_reply": "2023-05-28T19:26:22.879313Z"
        },
        "id": "4b642c2c",
        "outputId": "fe4f1685-fe21-4430-f5a2-a3a6e983bd19",
        "papermill": {
          "duration": 0.990026,
          "end_time": "2023-05-28T19:26:22.883447",
          "exception": false,
          "start_time": "2023-05-28T19:26:21.893421",
          "status": "completed"
        },
        "tags": []
      },
      "outputs": [
        {
          "data": {
            "image/png": "[encoded data removed]",
            "text/plain": [
              "<Figure size 558.875x500 with 1 Axes>"
            ]
          },
          "metadata": {},
          "output_type": "display_data"
        }
      ],
      "source": [
        "#Plot\n",
        "palette = \"deep\"\n",
        "sns.set_palette(palette)\n",
        "\n",
        "sns.displot(data=df, x='EstimatedSalary',hue='Exited', kde=True, bins=40)\n",
        "\n",
        "plt.xlabel('EstimatedSalary')\n",
        "plt.ylabel('Number of Customers')\n",
        "plt.title('Estimated Salary & Customer Churn Distribution')\n",
        "plt.xticks(rotation=45)\n",
        "\n",
        "plt.show()"
      ]
    },
    {
      "cell_type": "markdown",
      "id": "8e20dcfb",
      "metadata": {
        "id": "8e20dcfb",
        "papermill": {
          "duration": 0.031135,
          "end_time": "2023-05-28T19:26:22.946357",
          "exception": false,
          "start_time": "2023-05-28T19:26:22.915222",
          "status": "completed"
        },
        "tags": []
      },
      "source": [
        "# <span style=\"color:#FA8072\"> 5. Data Transformation </span> <a class=\"anchor\" id=\"data_transformation\"></a>\n"
      ]
    },
    {
      "cell_type": "code",
      "execution_count": null,
      "id": "a7b3f97b",
      "metadata": {
        "colab": {
          "base_uri": "https://localhost:8080/"
        },
        "execution": {
          "iopub.execute_input": "2023-05-28T19:26:23.012488Z",
          "iopub.status.busy": "2023-05-28T19:26:23.012031Z",
          "iopub.status.idle": "2023-05-28T19:26:23.020749Z",
          "shell.execute_reply": "2023-05-28T19:26:23.019466Z"
        },
        "id": "a7b3f97b",
        "outputId": "32dd6295-5e7c-4cb4-9461-287f466c1383",
        "papermill": {
          "duration": 0.045056,
          "end_time": "2023-05-28T19:26:23.023305",
          "exception": false,
          "start_time": "2023-05-28T19:26:22.978249",
          "status": "completed"
        },
        "tags": []
      },
      "outputs": [
        {
          "name": "stdout",
          "output_type": "stream",
          "text": [
            "Size of Dataset before dropping columns :  (10000, 14)\n",
            "Size of Dataset after dropping columns :  (10000, 11)\n"
          ]
        }
      ],
      "source": [
        "print(\"Size of Dataset before dropping columns : \",df.shape)\n",
        "drop_columns = ['RowNumber','CustomerId','Surname']\n",
        "df.drop(drop_columns,axis=1,inplace=True)\n",
        "print(\"Size of Dataset after dropping columns : \",df.shape)"
      ]
    },
    {
      "cell_type": "markdown",
      "id": "abe14b09",
      "metadata": {
        "id": "abe14b09",
        "papermill": {
          "duration": 0.03167,
          "end_time": "2023-05-28T19:26:23.086857",
          "exception": false,
          "start_time": "2023-05-28T19:26:23.055187",
          "status": "completed"
        },
        "tags": []
      },
      "source": [
        "#### One Hot Encoding\n"
      ]
    },
    {
      "cell_type": "code",
      "execution_count": null,
      "id": "76586fd9",
      "metadata": {
        "execution": {
          "iopub.execute_input": "2023-05-28T19:26:23.151820Z",
          "iopub.status.busy": "2023-05-28T19:26:23.151339Z",
          "iopub.status.idle": "2023-05-28T19:26:23.166590Z",
          "shell.execute_reply": "2023-05-28T19:26:23.165665Z"
        },
        "id": "76586fd9",
        "papermill": {
          "duration": 0.050811,
          "end_time": "2023-05-28T19:26:23.169182",
          "exception": false,
          "start_time": "2023-05-28T19:26:23.118371",
          "status": "completed"
        },
        "tags": []
      },
      "outputs": [],
      "source": [
        "categorical_columns = ['Geography','Gender']\n",
        "\n",
        "# Perform one-hot encoding\n",
        "one_hot_encoded = pd.get_dummies(df[categorical_columns])\n",
        "\n",
        "# Concatenate the one-hot encoded columns to the original dataframe\n",
        "df_encoded = pd.concat([df, one_hot_encoded], axis=1)\n",
        "\n",
        "#Drop original categorical columns\n",
        "df_encoded.drop(categorical_columns,axis=1,inplace=True)"
      ]
    },
    {
      "cell_type": "code",
      "execution_count": null,
      "id": "0a0bc4d8",
      "metadata": {
        "colab": {
          "base_uri": "https://localhost:8080/",
          "height": 226
        },
        "execution": {
          "iopub.execute_input": "2023-05-28T19:26:23.234287Z",
          "iopub.status.busy": "2023-05-28T19:26:23.233850Z",
          "iopub.status.idle": "2023-05-28T19:26:23.251332Z",
          "shell.execute_reply": "2023-05-28T19:26:23.250187Z"
        },
        "id": "0a0bc4d8",
        "outputId": "233d0245-c0e8-40e4-f5e0-b7dd637826aa",
        "papermill": {
          "duration": 0.053034,
          "end_time": "2023-05-28T19:26:23.253612",
          "exception": false,
          "start_time": "2023-05-28T19:26:23.200578",
          "status": "completed"
        },
        "tags": []
      },
      "outputs": [
        {
          "data": {
            "application/vnd.google.colaboratory.intrinsic+json": {
              "summary": "{\n  \"name\": \"df_encoded\",\n  \"rows\": 10000,\n  \"fields\": [\n    {\n      \"column\": \"CreditScore\",\n      \"properties\": {\n        \"dtype\": \"number\",\n        \"std\": 96,\n        \"min\": 350,\n        \"max\": 850,\n        \"num_unique_values\": 460,\n        \"samples\": [\n          754,\n          533,\n          744\n        ],\n        \"semantic_type\": \"\",\n        \"description\": \"\"\n      }\n    },\n    {\n      \"column\": \"Age\",\n      \"properties\": {\n        \"dtype\": \"number\",\n        \"std\": 10,\n        \"min\": 18,\n        \"max\": 92,\n        \"num_unique_values\": 70,\n        \"samples\": [\n          61,\n          42,\n          59\n        ],\n        \"semantic_type\": \"\",\n        \"description\": \"\"\n      }\n    },\n    {\n      \"column\": \"Tenure\",\n      \"properties\": {\n        \"dtype\": \"number\",\n        \"std\": 2,\n        \"min\": 0,\n        \"max\": 10,\n        \"num_unique_values\": 11,\n        \"samples\": [\n          6,\n          2,\n          9\n        ],\n        \"semantic_type\": \"\",\n        \"description\": \"\"\n      }\n    },\n    {\n      \"column\": \"Balance\",\n      \"properties\": {\n        \"dtype\": \"number\",\n        \"std\": 62397.405202385955,\n        \"min\": 0.0,\n        \"max\": 250898.09,\n        \"num_unique_values\": 6382,\n        \"samples\": [\n          117707.18,\n          133050.97,\n          124271.26\n        ],\n        \"semantic_type\": \"\",\n        \"description\": \"\"\n      }\n    },\n    {\n      \"column\": \"NumOfProducts\",\n      \"properties\": {\n        \"dtype\": \"number\",\n        \"std\": 0,\n        \"min\": 1,\n        \"max\": 4,\n        \"num_unique_values\": 4,\n        \"samples\": [\n          3,\n          4,\n          1\n        ],\n        \"semantic_type\": \"\",\n        \"description\": \"\"\n      }\n    },\n    {\n      \"column\": \"HasCrCard\",\n      \"properties\": {\n        \"dtype\": \"number\",\n        \"std\": 0,\n        \"min\": 0,\n        \"max\": 1,\n        \"num_unique_values\": 2,\n        \"samples\": [\n          0,\n          1\n        ],\n        \"semantic_type\": \"\",\n        \"description\": \"\"\n      }\n    },\n    {\n      \"column\": \"IsActiveMember\",\n      \"properties\": {\n        \"dtype\": \"number\",\n        \"std\": 0,\n        \"min\": 0,\n        \"max\": 1,\n        \"num_unique_values\": 2,\n        \"samples\": [\n          0,\n          1\n        ],\n        \"semantic_type\": \"\",\n        \"description\": \"\"\n      }\n    },\n    {\n      \"column\": \"EstimatedSalary\",\n      \"properties\": {\n        \"dtype\": \"number\",\n        \"std\": 57510.49281769816,\n        \"min\": 11.58,\n        \"max\": 199992.48,\n        \"num_unique_values\": 9999,\n        \"samples\": [\n          100809.99,\n          95273.73\n        ],\n        \"semantic_type\": \"\",\n        \"description\": \"\"\n      }\n    },\n    {\n      \"column\": \"Exited\",\n      \"properties\": {\n        \"dtype\": \"number\",\n        \"std\": 0,\n        \"min\": 0,\n        \"max\": 1,\n        \"num_unique_values\": 2,\n        \"samples\": [\n          0,\n          1\n        ],\n        \"semantic_type\": \"\",\n        \"description\": \"\"\n      }\n    },\n    {\n      \"column\": \"Geography_France\",\n      \"properties\": {\n        \"dtype\": \"boolean\",\n        \"num_unique_values\": 2,\n        \"samples\": [\n          false,\n          true\n        ],\n        \"semantic_type\": \"\",\n        \"description\": \"\"\n      }\n    },\n    {\n      \"column\": \"Geography_Germany\",\n      \"properties\": {\n        \"dtype\": \"boolean\",\n        \"num_unique_values\": 2,\n        \"samples\": [\n          true,\n          false\n        ],\n        \"semantic_type\": \"\",\n        \"description\": \"\"\n      }\n    },\n    {\n      \"column\": \"Geography_Spain\",\n      \"properties\": {\n        \"dtype\": \"boolean\",\n        \"num_unique_values\": 2,\n        \"samples\": [\n          true,\n          false\n        ],\n        \"semantic_type\": \"\",\n        \"description\": \"\"\n      }\n    },\n    {\n      \"column\": \"Gender_Female\",\n      \"properties\": {\n        \"dtype\": \"boolean\",\n        \"num_unique_values\": 2,\n        \"samples\": [\n          false,\n          true\n        ],\n        \"semantic_type\": \"\",\n        \"description\": \"\"\n      }\n    },\n    {\n      \"column\": \"Gender_Male\",\n      \"properties\": {\n        \"dtype\": \"boolean\",\n        \"num_unique_values\": 2,\n        \"samples\": [\n          true,\n          false\n        ],\n        \"semantic_type\": \"\",\n        \"description\": \"\"\n      }\n    }\n  ]\n}",
              "type": "dataframe",
              "variable_name": "df_encoded"
            },
            "text/html": [
              "\n",
              "  <div id=\"df-9f649082-0c33-47d9-8e25-80dc63934b7d\" class=\"colab-df-container\">\n",
              "    <div>\n",
              "<style scoped>\n",
              "    .dataframe tbody tr th:only-of-type {\n",
              "        vertical-align: middle;\n",
              "    }\n",
              "\n",
              "    .dataframe tbody tr th {\n",
              "        vertical-align: top;\n",
              "    }\n",
              "\n",
              "    .dataframe thead th {\n",
              "        text-align: right;\n",
              "    }\n",
              "</style>\n",
              "<table border=\"1\" class=\"dataframe\">\n",
              "  <thead>\n",
              "    <tr style=\"text-align: right;\">\n",
              "      <th></th>\n",
              "      <th>CreditScore</th>\n",
              "      <th>Age</th>\n",
              "      <th>Tenure</th>\n",
              "      <th>Balance</th>\n",
              "      <th>NumOfProducts</th>\n",
              "      <th>HasCrCard</th>\n",
              "      <th>IsActiveMember</th>\n",
              "      <th>EstimatedSalary</th>\n",
              "      <th>Exited</th>\n",
              "      <th>Geography_France</th>\n",
              "      <th>Geography_Germany</th>\n",
              "      <th>Geography_Spain</th>\n",
              "      <th>Gender_Female</th>\n",
              "      <th>Gender_Male</th>\n",
              "    </tr>\n",
              "  </thead>\n",
              "  <tbody>\n",
              "    <tr>\n",
              "      <th>0</th>\n",
              "      <td>619</td>\n",
              "      <td>42</td>\n",
              "      <td>2</td>\n",
              "      <td>0.00</td>\n",
              "      <td>1</td>\n",
              "      <td>1</td>\n",
              "      <td>1</td>\n",
              "      <td>101348.88</td>\n",
              "      <td>1</td>\n",
              "      <td>True</td>\n",
              "      <td>False</td>\n",
              "      <td>False</td>\n",
              "      <td>True</td>\n",
              "      <td>False</td>\n",
              "    </tr>\n",
              "    <tr>\n",
              "      <th>1</th>\n",
              "      <td>608</td>\n",
              "      <td>41</td>\n",
              "      <td>1</td>\n",
              "      <td>83807.86</td>\n",
              "      <td>1</td>\n",
              "      <td>0</td>\n",
              "      <td>1</td>\n",
              "      <td>112542.58</td>\n",
              "      <td>0</td>\n",
              "      <td>False</td>\n",
              "      <td>False</td>\n",
              "      <td>True</td>\n",
              "      <td>True</td>\n",
              "      <td>False</td>\n",
              "    </tr>\n",
              "    <tr>\n",
              "      <th>2</th>\n",
              "      <td>502</td>\n",
              "      <td>42</td>\n",
              "      <td>8</td>\n",
              "      <td>159660.80</td>\n",
              "      <td>3</td>\n",
              "      <td>1</td>\n",
              "      <td>0</td>\n",
              "      <td>113931.57</td>\n",
              "      <td>1</td>\n",
              "      <td>True</td>\n",
              "      <td>False</td>\n",
              "      <td>False</td>\n",
              "      <td>True</td>\n",
              "      <td>False</td>\n",
              "    </tr>\n",
              "    <tr>\n",
              "      <th>3</th>\n",
              "      <td>699</td>\n",
              "      <td>39</td>\n",
              "      <td>1</td>\n",
              "      <td>0.00</td>\n",
              "      <td>2</td>\n",
              "      <td>0</td>\n",
              "      <td>0</td>\n",
              "      <td>93826.63</td>\n",
              "      <td>0</td>\n",
              "      <td>True</td>\n",
              "      <td>False</td>\n",
              "      <td>False</td>\n",
              "      <td>True</td>\n",
              "      <td>False</td>\n",
              "    </tr>\n",
              "    <tr>\n",
              "      <th>4</th>\n",
              "      <td>850</td>\n",
              "      <td>43</td>\n",
              "      <td>2</td>\n",
              "      <td>125510.82</td>\n",
              "      <td>1</td>\n",
              "      <td>1</td>\n",
              "      <td>1</td>\n",
              "      <td>79084.10</td>\n",
              "      <td>0</td>\n",
              "      <td>False</td>\n",
              "      <td>False</td>\n",
              "      <td>True</td>\n",
              "      <td>True</td>\n",
              "      <td>False</td>\n",
              "    </tr>\n",
              "  </tbody>\n",
              "</table>\n",
              "</div>\n",
              "    <div class=\"colab-df-buttons\">\n",
              "\n",
              "  <div class=\"colab-df-container\">\n",
              "    <button class=\"colab-df-convert\" onclick=\"convertToInteractive('df-9f649082-0c33-47d9-8e25-80dc63934b7d')\"\n",
              "            title=\"Convert this dataframe to an interactive table.\"\n",
              "            style=\"display:none;\">\n",
              "\n",
              "  <svg xmlns=\"http://www.w3.org/2000/svg\" height=\"24px\" viewBox=\"0 -960 960 960\">\n",
              "    <path d=\"M120-120v-720h720v720H120Zm60-500h600v-160H180v160Zm220 220h160v-160H400v160Zm0 220h160v-160H400v160ZM180-400h160v-160H180v160Zm440 0h160v-160H620v160ZM180-180h160v-160H180v160Zm440 0h160v-160H620v160Z\"/>\n",
              "  </svg>\n",
              "    </button>\n",
              "\n",
              "  <style>\n",
              "    .colab-df-container {\n",
              "      display:flex;\n",
              "      gap: 12px;\n",
              "    }\n",
              "\n",
              "    .colab-df-convert {\n",
              "      background-color: #E8F0FE;\n",
              "      border: none;\n",
              "      border-radius: 50%;\n",
              "      cursor: pointer;\n",
              "      display: none;\n",
              "      fill: #1967D2;\n",
              "      height: 32px;\n",
              "      padding: 0 0 0 0;\n",
              "      width: 32px;\n",
              "    }\n",
              "\n",
              "    .colab-df-convert:hover {\n",
              "      background-color: #E2EBFA;\n",
              "      box-shadow: 0px 1px 2px rgba(60, 64, 67, 0.3), 0px 1px 3px 1px rgba(60, 64, 67, 0.15);\n",
              "      fill: #174EA6;\n",
              "    }\n",
              "\n",
              "    .colab-df-buttons div {\n",
              "      margin-bottom: 4px;\n",
              "    }\n",
              "\n",
              "    [theme=dark] .colab-df-convert {\n",
              "      background-color: #3B4455;\n",
              "      fill: #D2E3FC;\n",
              "    }\n",
              "\n",
              "    [theme=dark] .colab-df-convert:hover {\n",
              "      background-color: #434B5C;\n",
              "      box-shadow: 0px 1px 3px 1px rgba(0, 0, 0, 0.15);\n",
              "      filter: drop-shadow(0px 1px 2px rgba(0, 0, 0, 0.3));\n",
              "      fill: #FFFFFF;\n",
              "    }\n",
              "  </style>\n",
              "\n",
              "    <script>\n",
              "      const buttonEl =\n",
              "        document.querySelector('#df-9f649082-0c33-47d9-8e25-80dc63934b7d button.colab-df-convert');\n",
              "      buttonEl.style.display =\n",
              "        google.colab.kernel.accessAllowed ? 'block' : 'none';\n",
              "\n",
              "      async function convertToInteractive(key) {\n",
              "        const element = document.querySelector('#df-9f649082-0c33-47d9-8e25-80dc63934b7d');\n",
              "        const dataTable =\n",
              "          await google.colab.kernel.invokeFunction('convertToInteractive',\n",
              "                                                    [key], {});\n",
              "        if (!dataTable) return;\n",
              "\n",
              "        const docLinkHtml = 'Like what you see? Visit the ' +\n",
              "          '<a target=\"_blank\" href=https://colab.research.google.com/notebooks/data_table.ipynb>data table notebook</a>'\n",
              "          + ' to learn more about interactive tables.';\n",
              "        element.innerHTML = '';\n",
              "        dataTable['output_type'] = 'display_data';\n",
              "        await google.colab.output.renderOutput(dataTable, element);\n",
              "        const docLink = document.createElement('div');\n",
              "        docLink.innerHTML = docLinkHtml;\n",
              "        element.appendChild(docLink);\n",
              "      }\n",
              "    </script>\n",
              "  </div>\n",
              "\n",
              "\n",
              "<div id=\"df-7df364e0-fb04-4e98-8d9a-7d4631deb052\">\n",
              "  <button class=\"colab-df-quickchart\" onclick=\"quickchart('df-7df364e0-fb04-4e98-8d9a-7d4631deb052')\"\n",
              "            title=\"Suggest charts\"\n",
              "            style=\"display:none;\">\n",
              "\n",
              "<svg xmlns=\"http://www.w3.org/2000/svg\" height=\"24px\"viewBox=\"0 0 24 24\"\n",
              "     width=\"24px\">\n",
              "    <g>\n",
              "        <path d=\"M19 3H5c-1.1 0-2 .9-2 2v14c0 1.1.9 2 2 2h14c1.1 0 2-.9 2-2V5c0-1.1-.9-2-2-2zM9 17H7v-7h2v7zm4 0h-2V7h2v10zm4 0h-2v-4h2v4z\"/>\n",
              "    </g>\n",
              "</svg>\n",
              "  </button>\n",
              "\n",
              "<style>\n",
              "  .colab-df-quickchart {\n",
              "      --bg-color: #E8F0FE;\n",
              "      --fill-color: #1967D2;\n",
              "      --hover-bg-color: #E2EBFA;\n",
              "      --hover-fill-color: #174EA6;\n",
              "      --disabled-fill-color: #AAA;\n",
              "      --disabled-bg-color: #DDD;\n",
              "  }\n",
              "\n",
              "  [theme=dark] .colab-df-quickchart {\n",
              "      --bg-color: #3B4455;\n",
              "      --fill-color: #D2E3FC;\n",
              "      --hover-bg-color: #434B5C;\n",
              "      --hover-fill-color: #FFFFFF;\n",
              "      --disabled-bg-color: #3B4455;\n",
              "      --disabled-fill-color: #666;\n",
              "  }\n",
              "\n",
              "  .colab-df-quickchart {\n",
              "    background-color: var(--bg-color);\n",
              "    border: none;\n",
              "    border-radius: 50%;\n",
              "    cursor: pointer;\n",
              "    display: none;\n",
              "    fill: var(--fill-color);\n",
              "    height: 32px;\n",
              "    padding: 0;\n",
              "    width: 32px;\n",
              "  }\n",
              "\n",
              "  .colab-df-quickchart:hover {\n",
              "    background-color: var(--hover-bg-color);\n",
              "    box-shadow: 0 1px 2px rgba(60, 64, 67, 0.3), 0 1px 3px 1px rgba(60, 64, 67, 0.15);\n",
              "    fill: var(--button-hover-fill-color);\n",
              "  }\n",
              "\n",
              "  .colab-df-quickchart-complete:disabled,\n",
              "  .colab-df-quickchart-complete:disabled:hover {\n",
              "    background-color: var(--disabled-bg-color);\n",
              "    fill: var(--disabled-fill-color);\n",
              "    box-shadow: none;\n",
              "  }\n",
              "\n",
              "  .colab-df-spinner {\n",
              "    border: 2px solid var(--fill-color);\n",
              "    border-color: transparent;\n",
              "    border-bottom-color: var(--fill-color);\n",
              "    animation:\n",
              "      spin 1s steps(1) infinite;\n",
              "  }\n",
              "\n",
              "  @keyframes spin {\n",
              "    0% {\n",
              "      border-color: transparent;\n",
              "      border-bottom-color: var(--fill-color);\n",
              "      border-left-color: var(--fill-color);\n",
              "    }\n",
              "    20% {\n",
              "      border-color: transparent;\n",
              "      border-left-color: var(--fill-color);\n",
              "      border-top-color: var(--fill-color);\n",
              "    }\n",
              "    30% {\n",
              "      border-color: transparent;\n",
              "      border-left-color: var(--fill-color);\n",
              "      border-top-color: var(--fill-color);\n",
              "      border-right-color: var(--fill-color);\n",
              "    }\n",
              "    40% {\n",
              "      border-color: transparent;\n",
              "      border-right-color: var(--fill-color);\n",
              "      border-top-color: var(--fill-color);\n",
              "    }\n",
              "    60% {\n",
              "      border-color: transparent;\n",
              "      border-right-color: var(--fill-color);\n",
              "    }\n",
              "    80% {\n",
              "      border-color: transparent;\n",
              "      border-right-color: var(--fill-color);\n",
              "      border-bottom-color: var(--fill-color);\n",
              "    }\n",
              "    90% {\n",
              "      border-color: transparent;\n",
              "      border-bottom-color: var(--fill-color);\n",
              "    }\n",
              "  }\n",
              "</style>\n",
              "\n",
              "  <script>\n",
              "    async function quickchart(key) {\n",
              "      const quickchartButtonEl =\n",
              "        document.querySelector('#' + key + ' button');\n",
              "      quickchartButtonEl.disabled = true;  // To prevent multiple clicks.\n",
              "      quickchartButtonEl.classList.add('colab-df-spinner');\n",
              "      try {\n",
              "        const charts = await google.colab.kernel.invokeFunction(\n",
              "            'suggestCharts', [key], {});\n",
              "      } catch (error) {\n",
              "        console.error('Error during call to suggestCharts:', error);\n",
              "      }\n",
              "      quickchartButtonEl.classList.remove('colab-df-spinner');\n",
              "      quickchartButtonEl.classList.add('colab-df-quickchart-complete');\n",
              "    }\n",
              "    (() => {\n",
              "      let quickchartButtonEl =\n",
              "        document.querySelector('#df-7df364e0-fb04-4e98-8d9a-7d4631deb052 button');\n",
              "      quickchartButtonEl.style.display =\n",
              "        google.colab.kernel.accessAllowed ? 'block' : 'none';\n",
              "    })();\n",
              "  </script>\n",
              "</div>\n",
              "    </div>\n",
              "  </div>\n"
            ],
            "text/plain": [
              "   CreditScore  Age  Tenure    Balance  NumOfProducts  HasCrCard  \\\n",
              "0          619   42       2       0.00              1          1   \n",
              "1          608   41       1   83807.86              1          0   \n",
              "2          502   42       8  159660.80              3          1   \n",
              "3          699   39       1       0.00              2          0   \n",
              "4          850   43       2  125510.82              1          1   \n",
              "\n",
              "   IsActiveMember  EstimatedSalary  Exited  Geography_France  \\\n",
              "0               1        101348.88       1              True   \n",
              "1               1        112542.58       0             False   \n",
              "2               0        113931.57       1              True   \n",
              "3               0         93826.63       0              True   \n",
              "4               1         79084.10       0             False   \n",
              "\n",
              "   Geography_Germany  Geography_Spain  Gender_Female  Gender_Male  \n",
              "0              False            False           True        False  \n",
              "1              False             True           True        False  \n",
              "2              False            False           True        False  \n",
              "3              False            False           True        False  \n",
              "4              False             True           True        False  "
            ]
          },
          "execution_count": 80,
          "metadata": {},
          "output_type": "execute_result"
        }
      ],
      "source": [
        "df_encoded.head()"
      ]
    },
    {
      "cell_type": "markdown",
      "id": "8d972be0",
      "metadata": {
        "id": "8d972be0",
        "papermill": {
          "duration": 0.032391,
          "end_time": "2023-05-28T19:26:23.318019",
          "exception": false,
          "start_time": "2023-05-28T19:26:23.285628",
          "status": "completed"
        },
        "tags": []
      },
      "source": [
        "### Normalization"
      ]
    },
    {
      "cell_type": "code",
      "execution_count": null,
      "id": "29ad68b5",
      "metadata": {
        "colab": {
          "base_uri": "https://localhost:8080/",
          "height": 226
        },
        "execution": {
          "iopub.execute_input": "2023-05-28T19:26:23.383811Z",
          "iopub.status.busy": "2023-05-28T19:26:23.383428Z",
          "iopub.status.idle": "2023-05-28T19:26:23.411742Z",
          "shell.execute_reply": "2023-05-28T19:26:23.410661Z"
        },
        "id": "29ad68b5",
        "outputId": "6335ced2-0c27-4b7c-da25-654cefba3208",
        "papermill": {
          "duration": 0.064241,
          "end_time": "2023-05-28T19:26:23.414138",
          "exception": false,
          "start_time": "2023-05-28T19:26:23.349897",
          "status": "completed"
        },
        "tags": []
      },
      "outputs": [
        {
          "data": {
            "application/vnd.google.colaboratory.intrinsic+json": {
              "summary": "{\n  \"name\": \"df_encoded\",\n  \"rows\": 10000,\n  \"fields\": [\n    {\n      \"column\": \"CreditScore\",\n      \"properties\": {\n        \"dtype\": \"number\",\n        \"std\": 0.1933065974722607,\n        \"min\": 0.0,\n        \"max\": 0.9999999999999999,\n        \"num_unique_values\": 460,\n        \"samples\": [\n          0.8079999999999999,\n          0.366,\n          0.7879999999999999\n        ],\n        \"semantic_type\": \"\",\n        \"description\": \"\"\n      }\n    },\n    {\n      \"column\": \"Age\",\n      \"properties\": {\n        \"dtype\": \"number\",\n        \"std\": 0.14172711421222448,\n        \"min\": 0.0,\n        \"max\": 1.0000000000000002,\n        \"num_unique_values\": 70,\n        \"samples\": [\n          0.5810810810810811,\n          0.3243243243243243,\n          0.5540540540540542\n        ],\n        \"semantic_type\": \"\",\n        \"description\": \"\"\n      }\n    },\n    {\n      \"column\": \"Tenure\",\n      \"properties\": {\n        \"dtype\": \"number\",\n        \"std\": 0.2892174377049684,\n        \"min\": 0.0,\n        \"max\": 1.0,\n        \"num_unique_values\": 11,\n        \"samples\": [\n          0.6000000000000001,\n          0.2,\n          0.9\n        ],\n        \"semantic_type\": \"\",\n        \"description\": \"\"\n      }\n    },\n    {\n      \"column\": \"Balance\",\n      \"properties\": {\n        \"dtype\": \"number\",\n        \"std\": 0.24869621447650703,\n        \"min\": 0.0,\n        \"max\": 1.0,\n        \"num_unique_values\": 6382,\n        \"samples\": [\n          0.4691433880584743,\n          0.5302988556030858,\n          0.49530572353101615\n        ],\n        \"semantic_type\": \"\",\n        \"description\": \"\"\n      }\n    },\n    {\n      \"column\": \"NumOfProducts\",\n      \"properties\": {\n        \"dtype\": \"number\",\n        \"std\": 0.19388478599966352,\n        \"min\": 0.0,\n        \"max\": 1.0,\n        \"num_unique_values\": 4,\n        \"samples\": [\n          0.6666666666666667,\n          1.0,\n          0.0\n        ],\n        \"semantic_type\": \"\",\n        \"description\": \"\"\n      }\n    },\n    {\n      \"column\": \"HasCrCard\",\n      \"properties\": {\n        \"dtype\": \"number\",\n        \"std\": 0,\n        \"min\": 0,\n        \"max\": 1,\n        \"num_unique_values\": 2,\n        \"samples\": [\n          0,\n          1\n        ],\n        \"semantic_type\": \"\",\n        \"description\": \"\"\n      }\n    },\n    {\n      \"column\": \"IsActiveMember\",\n      \"properties\": {\n        \"dtype\": \"number\",\n        \"std\": 0,\n        \"min\": 0,\n        \"max\": 1,\n        \"num_unique_values\": 2,\n        \"samples\": [\n          0,\n          1\n        ],\n        \"semantic_type\": \"\",\n        \"description\": \"\"\n      }\n    },\n    {\n      \"column\": \"EstimatedSalary\",\n      \"properties\": {\n        \"dtype\": \"number\",\n        \"std\": 0.2875799279716121,\n        \"min\": 0.0,\n        \"max\": 1.0,\n        \"num_unique_values\": 9999,\n        \"samples\": [\n          0.5040401858377475,\n          0.476356242021113\n        ],\n        \"semantic_type\": \"\",\n        \"description\": \"\"\n      }\n    },\n    {\n      \"column\": \"Exited\",\n      \"properties\": {\n        \"dtype\": \"number\",\n        \"std\": 0,\n        \"min\": 0,\n        \"max\": 1,\n        \"num_unique_values\": 2,\n        \"samples\": [\n          0,\n          1\n        ],\n        \"semantic_type\": \"\",\n        \"description\": \"\"\n      }\n    },\n    {\n      \"column\": \"Geography_France\",\n      \"properties\": {\n        \"dtype\": \"boolean\",\n        \"num_unique_values\": 2,\n        \"samples\": [\n          false,\n          true\n        ],\n        \"semantic_type\": \"\",\n        \"description\": \"\"\n      }\n    },\n    {\n      \"column\": \"Geography_Germany\",\n      \"properties\": {\n        \"dtype\": \"boolean\",\n        \"num_unique_values\": 2,\n        \"samples\": [\n          true,\n          false\n        ],\n        \"semantic_type\": \"\",\n        \"description\": \"\"\n      }\n    },\n    {\n      \"column\": \"Geography_Spain\",\n      \"properties\": {\n        \"dtype\": \"boolean\",\n        \"num_unique_values\": 2,\n        \"samples\": [\n          true,\n          false\n        ],\n        \"semantic_type\": \"\",\n        \"description\": \"\"\n      }\n    },\n    {\n      \"column\": \"Gender_Female\",\n      \"properties\": {\n        \"dtype\": \"boolean\",\n        \"num_unique_values\": 2,\n        \"samples\": [\n          false,\n          true\n        ],\n        \"semantic_type\": \"\",\n        \"description\": \"\"\n      }\n    },\n    {\n      \"column\": \"Gender_Male\",\n      \"properties\": {\n        \"dtype\": \"boolean\",\n        \"num_unique_values\": 2,\n        \"samples\": [\n          true,\n          false\n        ],\n        \"semantic_type\": \"\",\n        \"description\": \"\"\n      }\n    }\n  ]\n}",
              "type": "dataframe",
              "variable_name": "df_encoded"
            },
            "text/html": [
              "\n",
              "  <div id=\"df-d81a697a-db3b-4a4a-838a-50b0e53809f8\" class=\"colab-df-container\">\n",
              "    <div>\n",
              "<style scoped>\n",
              "    .dataframe tbody tr th:only-of-type {\n",
              "        vertical-align: middle;\n",
              "    }\n",
              "\n",
              "    .dataframe tbody tr th {\n",
              "        vertical-align: top;\n",
              "    }\n",
              "\n",
              "    .dataframe thead th {\n",
              "        text-align: right;\n",
              "    }\n",
              "</style>\n",
              "<table border=\"1\" class=\"dataframe\">\n",
              "  <thead>\n",
              "    <tr style=\"text-align: right;\">\n",
              "      <th></th>\n",
              "      <th>CreditScore</th>\n",
              "      <th>Age</th>\n",
              "      <th>Tenure</th>\n",
              "      <th>Balance</th>\n",
              "      <th>NumOfProducts</th>\n",
              "      <th>HasCrCard</th>\n",
              "      <th>IsActiveMember</th>\n",
              "      <th>EstimatedSalary</th>\n",
              "      <th>Exited</th>\n",
              "      <th>Geography_France</th>\n",
              "      <th>Geography_Germany</th>\n",
              "      <th>Geography_Spain</th>\n",
              "      <th>Gender_Female</th>\n",
              "      <th>Gender_Male</th>\n",
              "    </tr>\n",
              "  </thead>\n",
              "  <tbody>\n",
              "    <tr>\n",
              "      <th>0</th>\n",
              "      <td>0.538</td>\n",
              "      <td>0.324324</td>\n",
              "      <td>0.2</td>\n",
              "      <td>0.000000</td>\n",
              "      <td>0.000000</td>\n",
              "      <td>1</td>\n",
              "      <td>1</td>\n",
              "      <td>0.506735</td>\n",
              "      <td>1</td>\n",
              "      <td>True</td>\n",
              "      <td>False</td>\n",
              "      <td>False</td>\n",
              "      <td>True</td>\n",
              "      <td>False</td>\n",
              "    </tr>\n",
              "    <tr>\n",
              "      <th>1</th>\n",
              "      <td>0.516</td>\n",
              "      <td>0.310811</td>\n",
              "      <td>0.1</td>\n",
              "      <td>0.334031</td>\n",
              "      <td>0.000000</td>\n",
              "      <td>0</td>\n",
              "      <td>1</td>\n",
              "      <td>0.562709</td>\n",
              "      <td>0</td>\n",
              "      <td>False</td>\n",
              "      <td>False</td>\n",
              "      <td>True</td>\n",
              "      <td>True</td>\n",
              "      <td>False</td>\n",
              "    </tr>\n",
              "    <tr>\n",
              "      <th>2</th>\n",
              "      <td>0.304</td>\n",
              "      <td>0.324324</td>\n",
              "      <td>0.8</td>\n",
              "      <td>0.636357</td>\n",
              "      <td>0.666667</td>\n",
              "      <td>1</td>\n",
              "      <td>0</td>\n",
              "      <td>0.569654</td>\n",
              "      <td>1</td>\n",
              "      <td>True</td>\n",
              "      <td>False</td>\n",
              "      <td>False</td>\n",
              "      <td>True</td>\n",
              "      <td>False</td>\n",
              "    </tr>\n",
              "    <tr>\n",
              "      <th>3</th>\n",
              "      <td>0.698</td>\n",
              "      <td>0.283784</td>\n",
              "      <td>0.1</td>\n",
              "      <td>0.000000</td>\n",
              "      <td>0.333333</td>\n",
              "      <td>0</td>\n",
              "      <td>0</td>\n",
              "      <td>0.469120</td>\n",
              "      <td>0</td>\n",
              "      <td>True</td>\n",
              "      <td>False</td>\n",
              "      <td>False</td>\n",
              "      <td>True</td>\n",
              "      <td>False</td>\n",
              "    </tr>\n",
              "    <tr>\n",
              "      <th>4</th>\n",
              "      <td>1.000</td>\n",
              "      <td>0.337838</td>\n",
              "      <td>0.2</td>\n",
              "      <td>0.500246</td>\n",
              "      <td>0.000000</td>\n",
              "      <td>1</td>\n",
              "      <td>1</td>\n",
              "      <td>0.395400</td>\n",
              "      <td>0</td>\n",
              "      <td>False</td>\n",
              "      <td>False</td>\n",
              "      <td>True</td>\n",
              "      <td>True</td>\n",
              "      <td>False</td>\n",
              "    </tr>\n",
              "  </tbody>\n",
              "</table>\n",
              "</div>\n",
              "    <div class=\"colab-df-buttons\">\n",
              "\n",
              "  <div class=\"colab-df-container\">\n",
              "    <button class=\"colab-df-convert\" onclick=\"convertToInteractive('df-d81a697a-db3b-4a4a-838a-50b0e53809f8')\"\n",
              "            title=\"Convert this dataframe to an interactive table.\"\n",
              "            style=\"display:none;\">\n",
              "\n",
              "  <svg xmlns=\"http://www.w3.org/2000/svg\" height=\"24px\" viewBox=\"0 -960 960 960\">\n",
              "    <path d=\"M120-120v-720h720v720H120Zm60-500h600v-160H180v160Zm220 220h160v-160H400v160Zm0 220h160v-160H400v160ZM180-400h160v-160H180v160Zm440 0h160v-160H620v160ZM180-180h160v-160H180v160Zm440 0h160v-160H620v160Z\"/>\n",
              "  </svg>\n",
              "    </button>\n",
              "\n",
              "  <style>\n",
              "    .colab-df-container {\n",
              "      display:flex;\n",
              "      gap: 12px;\n",
              "    }\n",
              "\n",
              "    .colab-df-convert {\n",
              "      background-color: #E8F0FE;\n",
              "      border: none;\n",
              "      border-radius: 50%;\n",
              "      cursor: pointer;\n",
              "      display: none;\n",
              "      fill: #1967D2;\n",
              "      height: 32px;\n",
              "      padding: 0 0 0 0;\n",
              "      width: 32px;\n",
              "    }\n",
              "\n",
              "    .colab-df-convert:hover {\n",
              "      background-color: #E2EBFA;\n",
              "      box-shadow: 0px 1px 2px rgba(60, 64, 67, 0.3), 0px 1px 3px 1px rgba(60, 64, 67, 0.15);\n",
              "      fill: #174EA6;\n",
              "    }\n",
              "\n",
              "    .colab-df-buttons div {\n",
              "      margin-bottom: 4px;\n",
              "    }\n",
              "\n",
              "    [theme=dark] .colab-df-convert {\n",
              "      background-color: #3B4455;\n",
              "      fill: #D2E3FC;\n",
              "    }\n",
              "\n",
              "    [theme=dark] .colab-df-convert:hover {\n",
              "      background-color: #434B5C;\n",
              "      box-shadow: 0px 1px 3px 1px rgba(0, 0, 0, 0.15);\n",
              "      filter: drop-shadow(0px 1px 2px rgba(0, 0, 0, 0.3));\n",
              "      fill: #FFFFFF;\n",
              "    }\n",
              "  </style>\n",
              "\n",
              "    <script>\n",
              "      const buttonEl =\n",
              "        document.querySelector('#df-d81a697a-db3b-4a4a-838a-50b0e53809f8 button.colab-df-convert');\n",
              "      buttonEl.style.display =\n",
              "        google.colab.kernel.accessAllowed ? 'block' : 'none';\n",
              "\n",
              "      async function convertToInteractive(key) {\n",
              "        const element = document.querySelector('#df-d81a697a-db3b-4a4a-838a-50b0e53809f8');\n",
              "        const dataTable =\n",
              "          await google.colab.kernel.invokeFunction('convertToInteractive',\n",
              "                                                    [key], {});\n",
              "        if (!dataTable) return;\n",
              "\n",
              "        const docLinkHtml = 'Like what you see? Visit the ' +\n",
              "          '<a target=\"_blank\" href=https://colab.research.google.com/notebooks/data_table.ipynb>data table notebook</a>'\n",
              "          + ' to learn more about interactive tables.';\n",
              "        element.innerHTML = '';\n",
              "        dataTable['output_type'] = 'display_data';\n",
              "        await google.colab.output.renderOutput(dataTable, element);\n",
              "        const docLink = document.createElement('div');\n",
              "        docLink.innerHTML = docLinkHtml;\n",
              "        element.appendChild(docLink);\n",
              "      }\n",
              "    </script>\n",
              "  </div>\n",
              "\n",
              "\n",
              "<div id=\"df-df9765e2-b89b-4a06-8604-845174402576\">\n",
              "  <button class=\"colab-df-quickchart\" onclick=\"quickchart('df-df9765e2-b89b-4a06-8604-845174402576')\"\n",
              "            title=\"Suggest charts\"\n",
              "            style=\"display:none;\">\n",
              "\n",
              "<svg xmlns=\"http://www.w3.org/2000/svg\" height=\"24px\"viewBox=\"0 0 24 24\"\n",
              "     width=\"24px\">\n",
              "    <g>\n",
              "        <path d=\"M19 3H5c-1.1 0-2 .9-2 2v14c0 1.1.9 2 2 2h14c1.1 0 2-.9 2-2V5c0-1.1-.9-2-2-2zM9 17H7v-7h2v7zm4 0h-2V7h2v10zm4 0h-2v-4h2v4z\"/>\n",
              "    </g>\n",
              "</svg>\n",
              "  </button>\n",
              "\n",
              "<style>\n",
              "  .colab-df-quickchart {\n",
              "      --bg-color: #E8F0FE;\n",
              "      --fill-color: #1967D2;\n",
              "      --hover-bg-color: #E2EBFA;\n",
              "      --hover-fill-color: #174EA6;\n",
              "      --disabled-fill-color: #AAA;\n",
              "      --disabled-bg-color: #DDD;\n",
              "  }\n",
              "\n",
              "  [theme=dark] .colab-df-quickchart {\n",
              "      --bg-color: #3B4455;\n",
              "      --fill-color: #D2E3FC;\n",
              "      --hover-bg-color: #434B5C;\n",
              "      --hover-fill-color: #FFFFFF;\n",
              "      --disabled-bg-color: #3B4455;\n",
              "      --disabled-fill-color: #666;\n",
              "  }\n",
              "\n",
              "  .colab-df-quickchart {\n",
              "    background-color: var(--bg-color);\n",
              "    border: none;\n",
              "    border-radius: 50%;\n",
              "    cursor: pointer;\n",
              "    display: none;\n",
              "    fill: var(--fill-color);\n",
              "    height: 32px;\n",
              "    padding: 0;\n",
              "    width: 32px;\n",
              "  }\n",
              "\n",
              "  .colab-df-quickchart:hover {\n",
              "    background-color: var(--hover-bg-color);\n",
              "    box-shadow: 0 1px 2px rgba(60, 64, 67, 0.3), 0 1px 3px 1px rgba(60, 64, 67, 0.15);\n",
              "    fill: var(--button-hover-fill-color);\n",
              "  }\n",
              "\n",
              "  .colab-df-quickchart-complete:disabled,\n",
              "  .colab-df-quickchart-complete:disabled:hover {\n",
              "    background-color: var(--disabled-bg-color);\n",
              "    fill: var(--disabled-fill-color);\n",
              "    box-shadow: none;\n",
              "  }\n",
              "\n",
              "  .colab-df-spinner {\n",
              "    border: 2px solid var(--fill-color);\n",
              "    border-color: transparent;\n",
              "    border-bottom-color: var(--fill-color);\n",
              "    animation:\n",
              "      spin 1s steps(1) infinite;\n",
              "  }\n",
              "\n",
              "  @keyframes spin {\n",
              "    0% {\n",
              "      border-color: transparent;\n",
              "      border-bottom-color: var(--fill-color);\n",
              "      border-left-color: var(--fill-color);\n",
              "    }\n",
              "    20% {\n",
              "      border-color: transparent;\n",
              "      border-left-color: var(--fill-color);\n",
              "      border-top-color: var(--fill-color);\n",
              "    }\n",
              "    30% {\n",
              "      border-color: transparent;\n",
              "      border-left-color: var(--fill-color);\n",
              "      border-top-color: var(--fill-color);\n",
              "      border-right-color: var(--fill-color);\n",
              "    }\n",
              "    40% {\n",
              "      border-color: transparent;\n",
              "      border-right-color: var(--fill-color);\n",
              "      border-top-color: var(--fill-color);\n",
              "    }\n",
              "    60% {\n",
              "      border-color: transparent;\n",
              "      border-right-color: var(--fill-color);\n",
              "    }\n",
              "    80% {\n",
              "      border-color: transparent;\n",
              "      border-right-color: var(--fill-color);\n",
              "      border-bottom-color: var(--fill-color);\n",
              "    }\n",
              "    90% {\n",
              "      border-color: transparent;\n",
              "      border-bottom-color: var(--fill-color);\n",
              "    }\n",
              "  }\n",
              "</style>\n",
              "\n",
              "  <script>\n",
              "    async function quickchart(key) {\n",
              "      const quickchartButtonEl =\n",
              "        document.querySelector('#' + key + ' button');\n",
              "      quickchartButtonEl.disabled = true;  // To prevent multiple clicks.\n",
              "      quickchartButtonEl.classList.add('colab-df-spinner');\n",
              "      try {\n",
              "        const charts = await google.colab.kernel.invokeFunction(\n",
              "            'suggestCharts', [key], {});\n",
              "      } catch (error) {\n",
              "        console.error('Error during call to suggestCharts:', error);\n",
              "      }\n",
              "      quickchartButtonEl.classList.remove('colab-df-spinner');\n",
              "      quickchartButtonEl.classList.add('colab-df-quickchart-complete');\n",
              "    }\n",
              "    (() => {\n",
              "      let quickchartButtonEl =\n",
              "        document.querySelector('#df-df9765e2-b89b-4a06-8604-845174402576 button');\n",
              "      quickchartButtonEl.style.display =\n",
              "        google.colab.kernel.accessAllowed ? 'block' : 'none';\n",
              "    })();\n",
              "  </script>\n",
              "</div>\n",
              "    </div>\n",
              "  </div>\n"
            ],
            "text/plain": [
              "   CreditScore       Age  Tenure   Balance  NumOfProducts  HasCrCard  \\\n",
              "0        0.538  0.324324     0.2  0.000000       0.000000          1   \n",
              "1        0.516  0.310811     0.1  0.334031       0.000000          0   \n",
              "2        0.304  0.324324     0.8  0.636357       0.666667          1   \n",
              "3        0.698  0.283784     0.1  0.000000       0.333333          0   \n",
              "4        1.000  0.337838     0.2  0.500246       0.000000          1   \n",
              "\n",
              "   IsActiveMember  EstimatedSalary  Exited  Geography_France  \\\n",
              "0               1         0.506735       1              True   \n",
              "1               1         0.562709       0             False   \n",
              "2               0         0.569654       1              True   \n",
              "3               0         0.469120       0              True   \n",
              "4               1         0.395400       0             False   \n",
              "\n",
              "   Geography_Germany  Geography_Spain  Gender_Female  Gender_Male  \n",
              "0              False            False           True        False  \n",
              "1              False             True           True        False  \n",
              "2              False            False           True        False  \n",
              "3              False            False           True        False  \n",
              "4              False             True           True        False  "
            ]
          },
          "execution_count": 81,
          "metadata": {},
          "output_type": "execute_result"
        }
      ],
      "source": [
        "continuous_columns = ['CreditScore','Age','Tenure','Balance','NumOfProducts','EstimatedSalary']\n",
        "from sklearn.preprocessing import MinMaxScaler\n",
        "scaler = MinMaxScaler()\n",
        "df_encoded[continuous_columns] = scaler.fit_transform(df_encoded[continuous_columns])\n",
        "\n",
        "df_encoded.head()"
      ]
    },
    {
      "cell_type": "markdown",
      "id": "28901e36",
      "metadata": {
        "id": "28901e36",
        "papermill": {
          "duration": 0.031698,
          "end_time": "2023-05-28T19:26:23.477702",
          "exception": false,
          "start_time": "2023-05-28T19:26:23.446004",
          "status": "completed"
        },
        "tags": []
      },
      "source": [
        "# <span style=\"color:#FA8072\"> 6. Model Building </span> <a class=\"anchor\" id=\"model_building\"></a>"
      ]
    },
    {
      "cell_type": "code",
      "execution_count": null,
      "id": "59b4bde8",
      "metadata": {
        "execution": {
          "iopub.execute_input": "2023-05-28T19:26:23.547332Z",
          "iopub.status.busy": "2023-05-28T19:26:23.544990Z",
          "iopub.status.idle": "2023-05-28T19:26:23.553578Z",
          "shell.execute_reply": "2023-05-28T19:26:23.552760Z"
        },
        "id": "59b4bde8",
        "papermill": {
          "duration": 0.045123,
          "end_time": "2023-05-28T19:26:23.556053",
          "exception": false,
          "start_time": "2023-05-28T19:26:23.510930",
          "status": "completed"
        },
        "tags": []
      },
      "outputs": [],
      "source": [
        "#Method to evaluate the performance of the model\n",
        "def evaluate_model(y_test,y_pred):\n",
        "    print(\"Classification Report\")\n",
        "    print(classification_report(y_test, y_pred))\n",
        "\n",
        "    print(\"\\n---------------------------------------------\\n\")\n",
        "    # Compute confusion matrix\n",
        "    cm = confusion_matrix(y_test, y_pred)\n",
        "\n",
        "    # Create a heatmap of the confusion matrix using Seaborn\n",
        "    sns.heatmap(cm, annot=True, cmap='Greens',fmt='.0f')\n",
        "\n",
        "    plt.xlabel('Predicted Labels')\n",
        "    plt.ylabel('True Labels')\n",
        "    plt.title('Confusion Matrix')\n",
        "\n",
        "    plt.show()"
      ]
    },
    {
      "cell_type": "code",
      "execution_count": null,
      "id": "f80dec67",
      "metadata": {
        "colab": {
          "base_uri": "https://localhost:8080/"
        },
        "execution": {
          "iopub.execute_input": "2023-05-28T19:26:23.687094Z",
          "iopub.status.busy": "2023-05-28T19:26:23.686190Z",
          "iopub.status.idle": "2023-05-28T19:26:23.704808Z",
          "shell.execute_reply": "2023-05-28T19:26:23.703192Z"
        },
        "id": "f80dec67",
        "outputId": "edd9fac8-dd1c-49fa-e6b9-a153ae6b497c",
        "papermill": {
          "duration": 0.055188,
          "end_time": "2023-05-28T19:26:23.707232",
          "exception": false,
          "start_time": "2023-05-28T19:26:23.652044",
          "status": "completed"
        },
        "tags": []
      },
      "outputs": [
        {
          "name": "stdout",
          "output_type": "stream",
          "text": [
            "(8000, 13)\n",
            "(2000, 13)\n",
            "(8000,)\n",
            "(2000,)\n"
          ]
        }
      ],
      "source": [
        "#Train Test Split\n",
        "X = df_encoded.drop('Exited',axis=1)\n",
        "y = df_encoded['Exited']\n",
        "\n",
        "X_train, X_test, y_train, y_test = train_test_split(X, y, test_size=0.2, random_state=17,stratify=y)\n",
        "print(X_train.shape)\n",
        "print(X_test.shape)\n",
        "print(y_train.shape)\n",
        "print(y_test.shape)"
      ]
    },
    {
      "cell_type": "code",
      "execution_count": null,
      "id": "1f2ed31f",
      "metadata": {
        "colab": {
          "base_uri": "https://localhost:8080/"
        },
        "execution": {
          "iopub.execute_input": "2023-05-28T19:26:23.775671Z",
          "iopub.status.busy": "2023-05-28T19:26:23.774518Z",
          "iopub.status.idle": "2023-05-28T19:26:53.384026Z",
          "shell.execute_reply": "2023-05-28T19:26:53.382751Z"
        },
        "id": "1f2ed31f",
        "outputId": "4f28d1a9-3fbc-4f68-b246-ecd0ff4823f1",
        "papermill": {
          "duration": 29.647386,
          "end_time": "2023-05-28T19:26:53.386966",
          "exception": false,
          "start_time": "2023-05-28T19:26:23.739580",
          "status": "completed"
        },
        "tags": []
      },
      "outputs": [
        {
          "name": "stdout",
          "output_type": "stream",
          "text": [
            "Classifier: Logistic Regression\n",
            "Average Accuracy: 0.8139\n",
            "Average Precision: 0.7269\n",
            "Average Recall: 0.5928\n",
            "-----------------------\n",
            "Classifier: Decision Tree\n",
            "Average Accuracy: 0.7931\n",
            "Average Precision: 0.6850\n",
            "Average Recall: 0.6968\n",
            "-----------------------\n",
            "Classifier: Random Forest\n",
            "Average Accuracy: 0.8594\n",
            "Average Precision: 0.8186\n",
            "Average Recall: 0.7093\n",
            "-----------------------\n",
            "Classifier: KNN\n",
            "Average Accuracy: 0.8120\n",
            "Average Precision: 0.7086\n",
            "Average Recall: 0.6158\n",
            "-----------------------\n",
            "Classifier: Gaussion NB\n",
            "Average Accuracy: 0.8189\n",
            "Average Precision: 0.7218\n",
            "Average Recall: 0.6550\n",
            "-----------------------\n",
            "Classifier: XGB\n",
            "Average Accuracy: 0.8492\n",
            "Average Precision: 0.7795\n",
            "Average Recall: 0.7157\n",
            "-----------------------\n"
          ]
        }
      ],
      "source": [
        "# List of classifiers to test\n",
        "classifiers = [\n",
        "    ('Logistic Regression', LogisticRegression()),\n",
        "    ('Decision Tree', DecisionTreeClassifier()),\n",
        "    ('Random Forest', RandomForestClassifier()),\n",
        "    ('KNN', KNeighborsClassifier(n_neighbors=5)),\n",
        "    ('Gaussion NB',GaussianNB()),\n",
        "    ('XGB',xgb.XGBClassifier())\n",
        "]\n",
        "\n",
        "# Iterate over each classifier and evaluate performance\n",
        "for clf_name, clf in classifiers:\n",
        "    # Perform cross-validation\n",
        "    scores = cross_val_score(clf, X_train, y_train, cv=5, scoring='accuracy')\n",
        "\n",
        "    # Calculate average performance metrics\n",
        "    avg_accuracy = scores.mean()\n",
        "    avg_precision = cross_val_score(clf, X_train, y_train, cv=5, scoring='precision_macro').mean()\n",
        "    avg_recall = cross_val_score(clf, X_train, y_train, cv=5, scoring='recall_macro').mean()\n",
        "\n",
        "    # Print the performance metrics\n",
        "    print(f'Classifier: {clf_name}')\n",
        "    print(f'Average Accuracy: {avg_accuracy:.4f}')\n",
        "    print(f'Average Precision: {avg_precision:.4f}')\n",
        "    print(f'Average Recall: {avg_recall:.4f}')\n",
        "    print('-----------------------')"
      ]
    },
    {
      "cell_type": "code",
      "execution_count": null,
      "id": "66629503",
      "metadata": {
        "colab": {
          "base_uri": "https://localhost:8080/",
          "height": 698
        },
        "execution": {
          "iopub.execute_input": "2023-05-28T19:26:53.456597Z",
          "iopub.status.busy": "2023-05-28T19:26:53.456173Z",
          "iopub.status.idle": "2023-05-28T19:26:55.091844Z",
          "shell.execute_reply": "2023-05-28T19:26:55.090979Z"
        },
        "id": "66629503",
        "outputId": "312b90f9-218b-43c7-ff4c-7234a08d3acb",
        "papermill": {
          "duration": 1.672664,
          "end_time": "2023-05-28T19:26:55.094090",
          "exception": false,
          "start_time": "2023-05-28T19:26:53.421426",
          "status": "completed"
        },
        "tags": []
      },
      "outputs": [
        {
          "name": "stdout",
          "output_type": "stream",
          "text": [
            "Classification Report\n",
            "              precision    recall  f1-score   support\n",
            "\n",
            "           0       0.87      0.96      0.92      1593\n",
            "           1       0.76      0.44      0.56       407\n",
            "\n",
            "    accuracy                           0.86      2000\n",
            "   macro avg       0.81      0.70      0.74      2000\n",
            "weighted avg       0.85      0.86      0.84      2000\n",
            "\n",
            "\n",
            "---------------------------------------------\n",
            "\n"
          ]
        },
        {
          "data": {
            "image/png": "[encoded data removed]",
            "text/plain": [
              "<Figure size 640x480 with 2 Axes>"
            ]
          },
          "metadata": {},
          "output_type": "display_data"
        }
      ],
      "source": [
        "# Creating the Random Forest classifier\n",
        "rf_classifier = RandomForestClassifier(n_estimators=100, random_state=42)\n",
        "\n",
        "# Training the classifier\n",
        "rf_classifier.fit(X_train, y_train)\n",
        "\n",
        "# Making predictions on the test set\n",
        "y_pred = rf_classifier.predict(X_test)\n",
        "\n",
        "# Evaluating the model\n",
        "evaluate_model(y_test, y_pred)"
      ]
    }
  ],
  "metadata": {
    "colab": {
      "provenance": [],
      "include_colab_link": true
    },
    "kernelspec": {
      "display_name": "Python 3",
      "language": "python",
      "name": "python3"
    },
    "language_info": {
      "codemirror_mode": {
        "name": "ipython",
        "version": 3
      },
      "file_extension": ".py",
      "mimetype": "text/x-python",
      "name": "python",
      "nbconvert_exporter": "python",
      "pygments_lexer": "ipython3",
      "version": "3.10.10"
    },
    "papermill": {
      "default_parameters": {},
      "duration": 109.685798,
      "end_time": "2023-05-28T19:27:45.732847",
      "environment_variables": {},
      "exception": null,
      "input_path": "__notebook__.ipynb",
      "output_path": "__notebook__.ipynb",
      "parameters": {},
      "start_time": "2023-05-28T19:25:56.047049",
      "version": "2.4.0"
    }
  },
  "nbformat": 4,
  "nbformat_minor": 5
}